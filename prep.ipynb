{
 "cells": [
  {
   "cell_type": "markdown",
   "source": [
    "## Deep Dive into YouTube Trending\n",
    "During the Data Analytics examination, the Data Scientist at the company N asks for an in-depth analysis of YouTube Trending datasets.\n",
    "\n",
    "This notebook will clean all the data sources and format them for further analysis.\n",
    "&nbsp;\n",
    "### Data Sources\n",
    "- _categories.csv_ contains YouTube categories mapped by id\n",
    "- _CAvideos.csv_ contains daily history of YouTube Trending Tab for the Canada region\n",
    "- _GBvideos.csv_ contains daily history for YouTube Trending Tab for the United Kingdom region\n",
    "- _USvideos.csv_ contains daily history of YouTube Trending Tab for the United States region"
   ],
   "metadata": {
    "collapsed": false,
    "pycharm": {
     "name": "#%% md\n"
    }
   }
  },
  {
   "cell_type": "code",
   "execution_count": 15,
   "outputs": [],
   "source": [
    "import pandas as pd\n",
    "from pathlib import Path\n",
    "from datetime import datetime"
   ],
   "metadata": {
    "collapsed": false,
    "pycharm": {
     "name": "#%%\n"
    }
   }
  },
  {
   "cell_type": "markdown",
   "source": [
    "### File Locations"
   ],
   "metadata": {
    "collapsed": false,
    "pycharm": {
     "name": "#%% md\n"
    }
   }
  },
  {
   "cell_type": "code",
   "execution_count": 16,
   "outputs": [],
   "source": [
    "today = datetime.today()\n",
    "categories = {\n",
    "    \"clean\": Path.cwd() / \"datasets\" / \"processed\" / f\"categories_{today:%b-%d-%Y}.pkl\",\n",
    "    \"raw\": Path.cwd() / \"datasets\" / \"raw\" / \"categories.csv\"\n",
    "}\n",
    "trending = {\n",
    "    \"main\": {\n",
    "        \"clean\": Path.cwd() / \"datasets\" / \"processed\" / f\"trending_{today:%b-%d-%Y}.pkl\",\n",
    "    },\n",
    "    \"canada\": {\n",
    "        \"raw\": Path.cwd() / \"datasets\" / \"raw\" / \"CAvideos.csv\"\n",
    "    },\n",
    "    \"uk\": {\n",
    "        \"raw\": Path.cwd() / \"datasets\" / \"raw\" / \"GBvideos.csv\"\n",
    "    },\n",
    "    \"us\": {\n",
    "        \"raw\": Path.cwd() / \"datasets\" / \"raw\" / \"USvideos.csv\"\n",
    "    }\n",
    "}"
   ],
   "metadata": {
    "collapsed": false,
    "pycharm": {
     "name": "#%%\n"
    }
   }
  },
  {
   "cell_type": "markdown",
   "source": [
    "### Categories | Read"
   ],
   "metadata": {
    "collapsed": false,
    "pycharm": {
     "name": "#%% md\n"
    }
   }
  },
  {
   "cell_type": "code",
   "execution_count": 17,
   "outputs": [],
   "source": [
    "df = pd.read_csv(categories[\"raw\"], sep=';', on_bad_lines='skip')"
   ],
   "metadata": {
    "collapsed": false,
    "pycharm": {
     "name": "#%%\n"
    }
   }
  },
  {
   "cell_type": "markdown",
   "source": [
    "### Categories | Column Cleanup\n",
    "* Remove all surrounding spaces\n",
    "* Replace all inner spaces with underscores"
   ],
   "metadata": {
    "collapsed": false,
    "pycharm": {
     "name": "#%% md\n"
    }
   }
  },
  {
   "cell_type": "code",
   "execution_count": 18,
   "outputs": [
    {
     "data": {
      "text/plain": "   category_id  category_id_lvl_0  category_id_lvl_1  category_id_lvl_2  \\\n0          101                100              101.0                NaN   \n1          102                100              102.0                NaN   \n2          201                200              201.0                NaN   \n3          202                200              202.0                NaN   \n4          203                200              203.0                NaN   \n5          204                200              204.0                NaN   \n6          301                300              301.0                NaN   \n7          302                300              302.0                NaN   \n8          401                400              401.0                NaN   \n9          402                400              402.0                NaN   \n\n    category_title_lvl_0   category_title_lvl_1 category_title_lvl_2  \n0  Politics & Nonprofits  Nonprofits & Activism                  NaN  \n1  Politics & Nonprofits        News & Politics                  NaN  \n2                 Cinema       Film & Animation                  NaN  \n3                 Cinema               Trailers                  NaN  \n4                 Cinema            Full Movies                  NaN  \n5                 Cinema      TV Series & Shows                  NaN  \n6    Education & Science   Science & Technology                  NaN  \n7    Education & Science              Education                  NaN  \n8           DIY & Beauty           Other Beauty                  NaN  \n9           DIY & Beauty                    DIY                  NaN  ",
      "text/html": "<div>\n<style scoped>\n    .dataframe tbody tr th:only-of-type {\n        vertical-align: middle;\n    }\n\n    .dataframe tbody tr th {\n        vertical-align: top;\n    }\n\n    .dataframe thead th {\n        text-align: right;\n    }\n</style>\n<table border=\"1\" class=\"dataframe\">\n  <thead>\n    <tr style=\"text-align: right;\">\n      <th></th>\n      <th>category_id</th>\n      <th>category_id_lvl_0</th>\n      <th>category_id_lvl_1</th>\n      <th>category_id_lvl_2</th>\n      <th>category_title_lvl_0</th>\n      <th>category_title_lvl_1</th>\n      <th>category_title_lvl_2</th>\n    </tr>\n  </thead>\n  <tbody>\n    <tr>\n      <th>0</th>\n      <td>101</td>\n      <td>100</td>\n      <td>101.0</td>\n      <td>NaN</td>\n      <td>Politics &amp; Nonprofits</td>\n      <td>Nonprofits &amp; Activism</td>\n      <td>NaN</td>\n    </tr>\n    <tr>\n      <th>1</th>\n      <td>102</td>\n      <td>100</td>\n      <td>102.0</td>\n      <td>NaN</td>\n      <td>Politics &amp; Nonprofits</td>\n      <td>News &amp; Politics</td>\n      <td>NaN</td>\n    </tr>\n    <tr>\n      <th>2</th>\n      <td>201</td>\n      <td>200</td>\n      <td>201.0</td>\n      <td>NaN</td>\n      <td>Cinema</td>\n      <td>Film &amp; Animation</td>\n      <td>NaN</td>\n    </tr>\n    <tr>\n      <th>3</th>\n      <td>202</td>\n      <td>200</td>\n      <td>202.0</td>\n      <td>NaN</td>\n      <td>Cinema</td>\n      <td>Trailers</td>\n      <td>NaN</td>\n    </tr>\n    <tr>\n      <th>4</th>\n      <td>203</td>\n      <td>200</td>\n      <td>203.0</td>\n      <td>NaN</td>\n      <td>Cinema</td>\n      <td>Full Movies</td>\n      <td>NaN</td>\n    </tr>\n    <tr>\n      <th>5</th>\n      <td>204</td>\n      <td>200</td>\n      <td>204.0</td>\n      <td>NaN</td>\n      <td>Cinema</td>\n      <td>TV Series &amp; Shows</td>\n      <td>NaN</td>\n    </tr>\n    <tr>\n      <th>6</th>\n      <td>301</td>\n      <td>300</td>\n      <td>301.0</td>\n      <td>NaN</td>\n      <td>Education &amp; Science</td>\n      <td>Science &amp; Technology</td>\n      <td>NaN</td>\n    </tr>\n    <tr>\n      <th>7</th>\n      <td>302</td>\n      <td>300</td>\n      <td>302.0</td>\n      <td>NaN</td>\n      <td>Education &amp; Science</td>\n      <td>Education</td>\n      <td>NaN</td>\n    </tr>\n    <tr>\n      <th>8</th>\n      <td>401</td>\n      <td>400</td>\n      <td>401.0</td>\n      <td>NaN</td>\n      <td>DIY &amp; Beauty</td>\n      <td>Other Beauty</td>\n      <td>NaN</td>\n    </tr>\n    <tr>\n      <th>9</th>\n      <td>402</td>\n      <td>400</td>\n      <td>402.0</td>\n      <td>NaN</td>\n      <td>DIY &amp; Beauty</td>\n      <td>DIY</td>\n      <td>NaN</td>\n    </tr>\n  </tbody>\n</table>\n</div>"
     },
     "execution_count": 18,
     "metadata": {},
     "output_type": "execute_result"
    }
   ],
   "source": [
    "clean_columns = lambda columns: [col.strip().replace(\" \", \"_\") for col in columns]\n",
    "df.columns = clean_columns(df.columns)\n",
    "df.head(10)"
   ],
   "metadata": {
    "collapsed": false,
    "pycharm": {
     "name": "#%%\n"
    }
   }
  },
  {
   "cell_type": "markdown",
   "source": [
    " ### Categories | Column Transformation\n",
    "* Rename category_id_lvl_0 to root_id\n",
    "* Rename category_id_lvl_1, to parent_id\n",
    "* Rename category_id_lvl_2 to category_id\n",
    "* Rename category_title_lvl_0 to root\n",
    "* Rename category_title_lvl_1 to parent\n",
    "* Rename category_title_lvl_2 to category\n",
    "* Initialize missed parameters\n",
    "* Fill the gaps in transformed data\n",
    "* Rearrange columns"
   ],
   "metadata": {
    "collapsed": false,
    "pycharm": {
     "name": "#%% md\n"
    }
   }
  },
  {
   "cell_type": "code",
   "execution_count": 19,
   "outputs": [
    {
     "data": {
      "text/plain": "   category_id  parent_id  root_id               category  \\\n0        101.0      101.0      100  Nonprofits & Activism   \n1        102.0      102.0      100        News & Politics   \n2        201.0      201.0      200       Film & Animation   \n3        202.0      202.0      200               Trailers   \n4        203.0      203.0      200            Full Movies   \n5        204.0      204.0      200      TV Series & Shows   \n6        301.0      301.0      300   Science & Technology   \n7        302.0      302.0      300              Education   \n8        401.0      401.0      400           Other Beauty   \n9        402.0      402.0      400                    DIY   \n\n                  parent                   root  \n0  Nonprofits & Activism  Politics & Nonprofits  \n1        News & Politics  Politics & Nonprofits  \n2       Film & Animation                 Cinema  \n3               Trailers                 Cinema  \n4            Full Movies                 Cinema  \n5      TV Series & Shows                 Cinema  \n6   Science & Technology    Education & Science  \n7              Education    Education & Science  \n8           Other Beauty           DIY & Beauty  \n9                    DIY           DIY & Beauty  ",
      "text/html": "<div>\n<style scoped>\n    .dataframe tbody tr th:only-of-type {\n        vertical-align: middle;\n    }\n\n    .dataframe tbody tr th {\n        vertical-align: top;\n    }\n\n    .dataframe thead th {\n        text-align: right;\n    }\n</style>\n<table border=\"1\" class=\"dataframe\">\n  <thead>\n    <tr style=\"text-align: right;\">\n      <th></th>\n      <th>category_id</th>\n      <th>parent_id</th>\n      <th>root_id</th>\n      <th>category</th>\n      <th>parent</th>\n      <th>root</th>\n    </tr>\n  </thead>\n  <tbody>\n    <tr>\n      <th>0</th>\n      <td>101.0</td>\n      <td>101.0</td>\n      <td>100</td>\n      <td>Nonprofits &amp; Activism</td>\n      <td>Nonprofits &amp; Activism</td>\n      <td>Politics &amp; Nonprofits</td>\n    </tr>\n    <tr>\n      <th>1</th>\n      <td>102.0</td>\n      <td>102.0</td>\n      <td>100</td>\n      <td>News &amp; Politics</td>\n      <td>News &amp; Politics</td>\n      <td>Politics &amp; Nonprofits</td>\n    </tr>\n    <tr>\n      <th>2</th>\n      <td>201.0</td>\n      <td>201.0</td>\n      <td>200</td>\n      <td>Film &amp; Animation</td>\n      <td>Film &amp; Animation</td>\n      <td>Cinema</td>\n    </tr>\n    <tr>\n      <th>3</th>\n      <td>202.0</td>\n      <td>202.0</td>\n      <td>200</td>\n      <td>Trailers</td>\n      <td>Trailers</td>\n      <td>Cinema</td>\n    </tr>\n    <tr>\n      <th>4</th>\n      <td>203.0</td>\n      <td>203.0</td>\n      <td>200</td>\n      <td>Full Movies</td>\n      <td>Full Movies</td>\n      <td>Cinema</td>\n    </tr>\n    <tr>\n      <th>5</th>\n      <td>204.0</td>\n      <td>204.0</td>\n      <td>200</td>\n      <td>TV Series &amp; Shows</td>\n      <td>TV Series &amp; Shows</td>\n      <td>Cinema</td>\n    </tr>\n    <tr>\n      <th>6</th>\n      <td>301.0</td>\n      <td>301.0</td>\n      <td>300</td>\n      <td>Science &amp; Technology</td>\n      <td>Science &amp; Technology</td>\n      <td>Education &amp; Science</td>\n    </tr>\n    <tr>\n      <th>7</th>\n      <td>302.0</td>\n      <td>302.0</td>\n      <td>300</td>\n      <td>Education</td>\n      <td>Education</td>\n      <td>Education &amp; Science</td>\n    </tr>\n    <tr>\n      <th>8</th>\n      <td>401.0</td>\n      <td>401.0</td>\n      <td>400</td>\n      <td>Other Beauty</td>\n      <td>Other Beauty</td>\n      <td>DIY &amp; Beauty</td>\n    </tr>\n    <tr>\n      <th>9</th>\n      <td>402.0</td>\n      <td>402.0</td>\n      <td>400</td>\n      <td>DIY</td>\n      <td>DIY</td>\n      <td>DIY &amp; Beauty</td>\n    </tr>\n  </tbody>\n</table>\n</div>"
     },
     "execution_count": 19,
     "metadata": {},
     "output_type": "execute_result"
    }
   ],
   "source": [
    "df = df.drop([\"category_id\"], axis = 1)\n",
    "\n",
    "df.rename(columns = {\n",
    "    \"category_id_lvl_0\": \"root_id\",\n",
    "    \"category_id_lvl_1\": \"parent_id\",\n",
    "    \"category_id_lvl_2\": \"category_id\",\n",
    "    \"category_title_lvl_0\": \"root\",\n",
    "    \"category_title_lvl_1\": \"parent\",\n",
    "    \"category_title_lvl_2\": \"category\"\n",
    "}, inplace = True)\n",
    "\n",
    "for i, row in df.iterrows():\n",
    "    if not row[\"root_id\"] in df[\"category_id\"]:\n",
    "        df = df.append({\n",
    "            \"category_id\": row[\"root_id\"],\n",
    "            \"parent_id\": row[\"root_id\"],\n",
    "            \"root_id\": row[\"root_id\"],\n",
    "            \"category\": row[\"root\"],\n",
    "            \"parent\": row[\"root\"],\n",
    "            \"root\": row[\"root\"],\n",
    "        }, ignore_index=True)\n",
    "\n",
    "for i, row in df.iterrows():\n",
    "    if pd.isna(row[\"parent_id\"]):\n",
    "        df.at[i, \"parent_id\"] = row[\"root_id\"]\n",
    "    if pd.isna(row[\"parent\"]):\n",
    "        df.at[i, \"parent\"] = row[\"root\"]\n",
    "\n",
    "for i, row in df.iterrows():\n",
    "    if not row[\"parent_id\"] in df[\"category_id\"]:\n",
    "        df = df.append({\n",
    "            \"category_id\": row[\"parent_id\"],\n",
    "            \"parent_id\": row[\"parent_id\"],\n",
    "            \"root_id\": row[\"root_id\"],\n",
    "            \"category\": row[\"parent\"],\n",
    "            \"parent\": row[\"parent\"],\n",
    "            \"root\": row[\"root\"],\n",
    "        }, ignore_index=True)\n",
    "\n",
    "for i, row in df.iterrows():\n",
    "    if pd.isna(row[\"category_id\"]):\n",
    "        df.at[i, \"category_id\"] = row[\"parent_id\"]\n",
    "    if pd.isna(row[\"category\"]):\n",
    "        df.at[i, \"category\"] = row[\"parent\"]\n",
    "\n",
    "df = df.reindex(columns=[\"category_id\", \"parent_id\", \"root_id\", \"category\", \"parent\", \"root\"])\n",
    "\n",
    "df.head(10)"
   ],
   "metadata": {
    "collapsed": false,
    "pycharm": {
     "name": "#%%\n"
    }
   }
  },
  {
   "cell_type": "markdown",
   "source": [
    "### Categories | Data Clean Up\n",
    "* Remove duplicates\n",
    "* Clean numeric data types\n",
    "* Sort data"
   ],
   "metadata": {
    "collapsed": false,
    "pycharm": {
     "name": "#%% md\n"
    }
   }
  },
  {
   "cell_type": "code",
   "execution_count": 20,
   "outputs": [
    {
     "data": {
      "text/plain": "     category_id  parent_id  root_id               category  \\\n0            101        101      100  Nonprofits & Activism   \n1            102        102      100        News & Politics   \n163          200        200      200                 Cinema   \n2            201        201      200       Film & Animation   \n3            202        202      200               Trailers   \n4            203        203      200            Full Movies   \n5            204        204      200      TV Series & Shows   \n167          300        300      300    Education & Science   \n6            301        301      300   Science & Technology   \n7            302        302      300              Education   \n\n                    parent                   root  \n0    Nonprofits & Activism  Politics & Nonprofits  \n1          News & Politics  Politics & Nonprofits  \n163                 Cinema                 Cinema  \n2         Film & Animation                 Cinema  \n3                 Trailers                 Cinema  \n4              Full Movies                 Cinema  \n5        TV Series & Shows                 Cinema  \n167    Education & Science    Education & Science  \n6     Science & Technology    Education & Science  \n7                Education    Education & Science  ",
      "text/html": "<div>\n<style scoped>\n    .dataframe tbody tr th:only-of-type {\n        vertical-align: middle;\n    }\n\n    .dataframe tbody tr th {\n        vertical-align: top;\n    }\n\n    .dataframe thead th {\n        text-align: right;\n    }\n</style>\n<table border=\"1\" class=\"dataframe\">\n  <thead>\n    <tr style=\"text-align: right;\">\n      <th></th>\n      <th>category_id</th>\n      <th>parent_id</th>\n      <th>root_id</th>\n      <th>category</th>\n      <th>parent</th>\n      <th>root</th>\n    </tr>\n  </thead>\n  <tbody>\n    <tr>\n      <th>0</th>\n      <td>101</td>\n      <td>101</td>\n      <td>100</td>\n      <td>Nonprofits &amp; Activism</td>\n      <td>Nonprofits &amp; Activism</td>\n      <td>Politics &amp; Nonprofits</td>\n    </tr>\n    <tr>\n      <th>1</th>\n      <td>102</td>\n      <td>102</td>\n      <td>100</td>\n      <td>News &amp; Politics</td>\n      <td>News &amp; Politics</td>\n      <td>Politics &amp; Nonprofits</td>\n    </tr>\n    <tr>\n      <th>163</th>\n      <td>200</td>\n      <td>200</td>\n      <td>200</td>\n      <td>Cinema</td>\n      <td>Cinema</td>\n      <td>Cinema</td>\n    </tr>\n    <tr>\n      <th>2</th>\n      <td>201</td>\n      <td>201</td>\n      <td>200</td>\n      <td>Film &amp; Animation</td>\n      <td>Film &amp; Animation</td>\n      <td>Cinema</td>\n    </tr>\n    <tr>\n      <th>3</th>\n      <td>202</td>\n      <td>202</td>\n      <td>200</td>\n      <td>Trailers</td>\n      <td>Trailers</td>\n      <td>Cinema</td>\n    </tr>\n    <tr>\n      <th>4</th>\n      <td>203</td>\n      <td>203</td>\n      <td>200</td>\n      <td>Full Movies</td>\n      <td>Full Movies</td>\n      <td>Cinema</td>\n    </tr>\n    <tr>\n      <th>5</th>\n      <td>204</td>\n      <td>204</td>\n      <td>200</td>\n      <td>TV Series &amp; Shows</td>\n      <td>TV Series &amp; Shows</td>\n      <td>Cinema</td>\n    </tr>\n    <tr>\n      <th>167</th>\n      <td>300</td>\n      <td>300</td>\n      <td>300</td>\n      <td>Education &amp; Science</td>\n      <td>Education &amp; Science</td>\n      <td>Education &amp; Science</td>\n    </tr>\n    <tr>\n      <th>6</th>\n      <td>301</td>\n      <td>301</td>\n      <td>300</td>\n      <td>Science &amp; Technology</td>\n      <td>Science &amp; Technology</td>\n      <td>Education &amp; Science</td>\n    </tr>\n    <tr>\n      <th>7</th>\n      <td>302</td>\n      <td>302</td>\n      <td>300</td>\n      <td>Education</td>\n      <td>Education</td>\n      <td>Education &amp; Science</td>\n    </tr>\n  </tbody>\n</table>\n</div>"
     },
     "execution_count": 20,
     "metadata": {},
     "output_type": "execute_result"
    }
   ],
   "source": [
    "df = df.drop_duplicates(subset=None, keep=\"first\", inplace=False)\n",
    "\n",
    "df[[\"category_id\", \"parent_id\", \"root_id\"]] = df[[\"category_id\", \"parent_id\", \"root_id\"]].fillna(value=0)\n",
    "\n",
    "df[\"category_id\"] = df[\"category_id\"].astype(\"int32\")\n",
    "df[\"parent_id\"] = df[\"parent_id\"].astype(\"int32\")\n",
    "df[\"root_id\"] = df[\"root_id\"].astype(\"int32\")\n",
    "\n",
    "df = df.sort_values(\"category_id\")\n",
    "\n",
    "df.head(10)"
   ],
   "metadata": {
    "collapsed": false,
    "pycharm": {
     "name": "#%%\n"
    }
   }
  },
  {
   "cell_type": "markdown",
   "source": [
    "### Categories | Data Overview"
   ],
   "metadata": {
    "collapsed": false,
    "pycharm": {
     "name": "#%% md\n"
    }
   }
  },
  {
   "cell_type": "code",
   "execution_count": 21,
   "outputs": [
    {
     "name": "stdout",
     "output_type": "stream",
     "text": [
      "<class 'pandas.core.frame.DataFrame'>\n",
      "Int64Index: 169 entries, 0 to 162\n",
      "Data columns (total 6 columns):\n",
      " #   Column       Non-Null Count  Dtype \n",
      "---  ------       --------------  ----- \n",
      " 0   category_id  169 non-null    int32 \n",
      " 1   parent_id    169 non-null    int32 \n",
      " 2   root_id      169 non-null    int32 \n",
      " 3   category     169 non-null    object\n",
      " 4   parent       169 non-null    object\n",
      " 5   root         169 non-null    object\n",
      "dtypes: int32(3), object(3)\n",
      "memory usage: 7.3+ KB\n"
     ]
    }
   ],
   "source": [
    "df.info()"
   ],
   "metadata": {
    "collapsed": false,
    "pycharm": {
     "name": "#%%\n"
    }
   }
  },
  {
   "cell_type": "markdown",
   "source": [
    "### Categories | Save Output"
   ],
   "metadata": {
    "collapsed": false,
    "pycharm": {
     "name": "#%% md\n"
    }
   }
  },
  {
   "cell_type": "code",
   "execution_count": 22,
   "outputs": [],
   "source": [
    "df.to_pickle(categories[\"clean\"])"
   ],
   "metadata": {
    "collapsed": false,
    "pycharm": {
     "name": "#%%\n"
    }
   }
  },
  {
   "cell_type": "markdown",
   "source": [
    "### Trending | Read + Concatenation\n",
    "* Read three datasets\n",
    "* Concatenate these"
   ],
   "metadata": {
    "collapsed": false,
    "pycharm": {
     "name": "#%% md\n"
    }
   }
  },
  {
   "cell_type": "code",
   "execution_count": 23,
   "outputs": [],
   "source": [
    "df_trending_ca = pd.read_csv(trending[\"canada\"][\"raw\"], sep=';', on_bad_lines='skip')\n",
    "df_trending_uk = pd.read_csv(trending[\"canada\"][\"raw\"], sep=';', on_bad_lines='skip')\n",
    "df_trending_us = pd.read_csv(trending[\"canada\"][\"raw\"], sep=';', on_bad_lines='skip')\n",
    "\n",
    "df = pd.concat([df_trending_ca, df_trending_uk, df_trending_us])"
   ],
   "metadata": {
    "collapsed": false,
    "pycharm": {
     "name": "#%%\n"
    }
   }
  },
  {
   "cell_type": "markdown",
   "source": [
    "### Trending | Column Cleanup\n",
    "* Remove all surrounding spaces\n",
    "* Replace all inner spaces with underscores"
   ],
   "metadata": {
    "collapsed": false,
    "pycharm": {
     "name": "#%% md\n"
    }
   }
  },
  {
   "cell_type": "code",
   "execution_count": 24,
   "outputs": [
    {
     "data": {
      "text/plain": "      video_id trending_date  \\\n0  n1WpP7iowLc      17.14.11   \n1  0dBIkQ4Mz1M      17.14.11   \n2  5qpjK5DgCt4      17.14.11   \n3  d380meD0W0M      17.14.11   \n4  2Vv-BfVoq4g      17.14.11   \n5  0yIWz1XEeyc      17.14.11   \n6  _uM5kFfkhB8      17.14.11   \n7  2kyS6SvSYSE      17.14.11   \n8  JzCsM1vtn78      17.14.11   \n9  43sm-QwLcx4      17.14.11   \n\n                                               title     channel_title  \\\n0         Eminem - Walk On Water (Audio) ft. Beyoncé        EminemVEVO   \n1                      PLUSH - Bad Unboxing Fan Mail         iDubbbzTV   \n2  Racist Superman | Rudy Mancuso, King Bach & Le...      Rudy Mancuso   \n3                           I Dare You: GOING BALD!?          nigahiga   \n4        Ed Sheeran - Perfect (Official Music Video)        Ed Sheeran   \n5  Jake Paul Says Alissa Violet CHEATED with LOGA...        DramaAlert   \n6             Vanoss Superhero School - New Students      VanossGaming   \n7                 WE WANT TO TALK ABOUT OUR MARRIAGE      CaseyNeistat   \n8               THE LOGANG MADE HISTORY. LOL. AGAIN.  Logan Paul Vlogs   \n9  Finally Sheldon is winning an argument about t...       Sheikh Musa   \n\n               publish_time       views      likes  dislikes  comment_count  \\\n0  2017-11-10T17:00:03.000Z  17158579.0   787425.0   43420.0       125882.0   \n1  2017-11-13T17:00:00.000Z   1014651.0   127794.0    1688.0        13030.0   \n2  2017-11-12T19:05:24.000Z   3191434.0   146035.0    5339.0         8181.0   \n3  2017-11-12T18:01:41.000Z   2095828.0   132239.0    1989.0        17518.0   \n4  2017-11-09T11:04:14.000Z  33523622.0  1634130.0   21082.0        85067.0   \n5  2017-11-13T07:37:51.000Z   1309699.0   103755.0    4613.0        12143.0   \n6  2017-11-12T23:52:13.000Z   2987945.0   187464.0    9850.0        26629.0   \n7  2017-11-13T17:13:01.000Z    748374.0    57534.0    2967.0        15959.0   \n8  2017-11-12T20:19:24.000Z   4477587.0   292837.0    4123.0        36391.0   \n9  2017-11-10T14:10:46.000Z    505161.0     4135.0     976.0         1484.0   \n\n                                   thumbnail_link comments_disabled  \\\n0  https://i.ytimg.com/vi/n1WpP7iowLc/default.jpg             False   \n1  https://i.ytimg.com/vi/0dBIkQ4Mz1M/default.jpg             False   \n2  https://i.ytimg.com/vi/5qpjK5DgCt4/default.jpg             False   \n3  https://i.ytimg.com/vi/d380meD0W0M/default.jpg             False   \n4  https://i.ytimg.com/vi/2Vv-BfVoq4g/default.jpg             False   \n5  https://i.ytimg.com/vi/0yIWz1XEeyc/default.jpg             False   \n6  https://i.ytimg.com/vi/_uM5kFfkhB8/default.jpg             False   \n7  https://i.ytimg.com/vi/2kyS6SvSYSE/default.jpg             False   \n8  https://i.ytimg.com/vi/JzCsM1vtn78/default.jpg             False   \n9  https://i.ytimg.com/vi/43sm-QwLcx4/default.jpg             False   \n\n  ratings_disabled video_error_or_removed  \\\n0            False                  False   \n1            False                  False   \n2            False                  False   \n3            False                  False   \n4            False                  False   \n5            False                  False   \n6            False                  False   \n7            False                  False   \n8            False                  False   \n9            False                  False   \n\n                                         description country  \\\n0  Eminem's new track Walk on Water ft. Beyoncé i...      CA   \n1  STill got a lot of packages. Probably will las...      CA   \n2  WATCH MY PREVIOUS VIDEO ▶ \\n\\nSUBSCRIBE ► http...      CA   \n3  I know it's been a while since we did this sho...      CA   \n4  🎧: https://ad.gt/yt-perfect\\n💰: https://atlant...      CA   \n5  ► Follow for News! - https://twitter.com/KEEMS...      CA   \n6  Vanoss Merch Shop: https://vanoss.3blackdot.co...      CA   \n7  SHANTELL'S CHANNEL - https://www.youtube.com/s...      CA   \n8  Join the movement. Be a Maverick ► https://Sho...      CA   \n9  Sheldon is roasting pastor of the church\\nyoun...      CA   \n\n                                                tags  category_id  \n0  ,'eminem','walk','on','water','aftermath/shady...        600.0  \n1  ,'plush','bad unboxing','unboxing','fan mail',...        805.0  \n2  ,'racist superman','rudy','mancuso','king','ba...        805.0  \n3  ,'ryan','higa','higatv','nigahiga','i dare you...        806.0  \n4  ,'edsheeran','ed sheeran','acoustic','live','c...        600.0  \n5  ,'#dramaalert','drama','alert','dramaalert','k...        102.0  \n6  ,'funny moments','montage video games','gaming...        805.0  \n7                                 ,'shantell martin'        804.0  \n8  ,'logan paul vlog','logan paul','logan','paul'...        806.0  \n9            ,'god','sheldon cooper','young sheldon'        804.0  ",
      "text/html": "<div>\n<style scoped>\n    .dataframe tbody tr th:only-of-type {\n        vertical-align: middle;\n    }\n\n    .dataframe tbody tr th {\n        vertical-align: top;\n    }\n\n    .dataframe thead th {\n        text-align: right;\n    }\n</style>\n<table border=\"1\" class=\"dataframe\">\n  <thead>\n    <tr style=\"text-align: right;\">\n      <th></th>\n      <th>video_id</th>\n      <th>trending_date</th>\n      <th>title</th>\n      <th>channel_title</th>\n      <th>publish_time</th>\n      <th>views</th>\n      <th>likes</th>\n      <th>dislikes</th>\n      <th>comment_count</th>\n      <th>thumbnail_link</th>\n      <th>comments_disabled</th>\n      <th>ratings_disabled</th>\n      <th>video_error_or_removed</th>\n      <th>description</th>\n      <th>country</th>\n      <th>tags</th>\n      <th>category_id</th>\n    </tr>\n  </thead>\n  <tbody>\n    <tr>\n      <th>0</th>\n      <td>n1WpP7iowLc</td>\n      <td>17.14.11</td>\n      <td>Eminem - Walk On Water (Audio) ft. Beyoncé</td>\n      <td>EminemVEVO</td>\n      <td>2017-11-10T17:00:03.000Z</td>\n      <td>17158579.0</td>\n      <td>787425.0</td>\n      <td>43420.0</td>\n      <td>125882.0</td>\n      <td>https://i.ytimg.com/vi/n1WpP7iowLc/default.jpg</td>\n      <td>False</td>\n      <td>False</td>\n      <td>False</td>\n      <td>Eminem's new track Walk on Water ft. Beyoncé i...</td>\n      <td>CA</td>\n      <td>,'eminem','walk','on','water','aftermath/shady...</td>\n      <td>600.0</td>\n    </tr>\n    <tr>\n      <th>1</th>\n      <td>0dBIkQ4Mz1M</td>\n      <td>17.14.11</td>\n      <td>PLUSH - Bad Unboxing Fan Mail</td>\n      <td>iDubbbzTV</td>\n      <td>2017-11-13T17:00:00.000Z</td>\n      <td>1014651.0</td>\n      <td>127794.0</td>\n      <td>1688.0</td>\n      <td>13030.0</td>\n      <td>https://i.ytimg.com/vi/0dBIkQ4Mz1M/default.jpg</td>\n      <td>False</td>\n      <td>False</td>\n      <td>False</td>\n      <td>STill got a lot of packages. Probably will las...</td>\n      <td>CA</td>\n      <td>,'plush','bad unboxing','unboxing','fan mail',...</td>\n      <td>805.0</td>\n    </tr>\n    <tr>\n      <th>2</th>\n      <td>5qpjK5DgCt4</td>\n      <td>17.14.11</td>\n      <td>Racist Superman | Rudy Mancuso, King Bach &amp; Le...</td>\n      <td>Rudy Mancuso</td>\n      <td>2017-11-12T19:05:24.000Z</td>\n      <td>3191434.0</td>\n      <td>146035.0</td>\n      <td>5339.0</td>\n      <td>8181.0</td>\n      <td>https://i.ytimg.com/vi/5qpjK5DgCt4/default.jpg</td>\n      <td>False</td>\n      <td>False</td>\n      <td>False</td>\n      <td>WATCH MY PREVIOUS VIDEO ▶ \\n\\nSUBSCRIBE ► http...</td>\n      <td>CA</td>\n      <td>,'racist superman','rudy','mancuso','king','ba...</td>\n      <td>805.0</td>\n    </tr>\n    <tr>\n      <th>3</th>\n      <td>d380meD0W0M</td>\n      <td>17.14.11</td>\n      <td>I Dare You: GOING BALD!?</td>\n      <td>nigahiga</td>\n      <td>2017-11-12T18:01:41.000Z</td>\n      <td>2095828.0</td>\n      <td>132239.0</td>\n      <td>1989.0</td>\n      <td>17518.0</td>\n      <td>https://i.ytimg.com/vi/d380meD0W0M/default.jpg</td>\n      <td>False</td>\n      <td>False</td>\n      <td>False</td>\n      <td>I know it's been a while since we did this sho...</td>\n      <td>CA</td>\n      <td>,'ryan','higa','higatv','nigahiga','i dare you...</td>\n      <td>806.0</td>\n    </tr>\n    <tr>\n      <th>4</th>\n      <td>2Vv-BfVoq4g</td>\n      <td>17.14.11</td>\n      <td>Ed Sheeran - Perfect (Official Music Video)</td>\n      <td>Ed Sheeran</td>\n      <td>2017-11-09T11:04:14.000Z</td>\n      <td>33523622.0</td>\n      <td>1634130.0</td>\n      <td>21082.0</td>\n      <td>85067.0</td>\n      <td>https://i.ytimg.com/vi/2Vv-BfVoq4g/default.jpg</td>\n      <td>False</td>\n      <td>False</td>\n      <td>False</td>\n      <td>🎧: https://ad.gt/yt-perfect\\n💰: https://atlant...</td>\n      <td>CA</td>\n      <td>,'edsheeran','ed sheeran','acoustic','live','c...</td>\n      <td>600.0</td>\n    </tr>\n    <tr>\n      <th>5</th>\n      <td>0yIWz1XEeyc</td>\n      <td>17.14.11</td>\n      <td>Jake Paul Says Alissa Violet CHEATED with LOGA...</td>\n      <td>DramaAlert</td>\n      <td>2017-11-13T07:37:51.000Z</td>\n      <td>1309699.0</td>\n      <td>103755.0</td>\n      <td>4613.0</td>\n      <td>12143.0</td>\n      <td>https://i.ytimg.com/vi/0yIWz1XEeyc/default.jpg</td>\n      <td>False</td>\n      <td>False</td>\n      <td>False</td>\n      <td>► Follow for News! - https://twitter.com/KEEMS...</td>\n      <td>CA</td>\n      <td>,'#dramaalert','drama','alert','dramaalert','k...</td>\n      <td>102.0</td>\n    </tr>\n    <tr>\n      <th>6</th>\n      <td>_uM5kFfkhB8</td>\n      <td>17.14.11</td>\n      <td>Vanoss Superhero School - New Students</td>\n      <td>VanossGaming</td>\n      <td>2017-11-12T23:52:13.000Z</td>\n      <td>2987945.0</td>\n      <td>187464.0</td>\n      <td>9850.0</td>\n      <td>26629.0</td>\n      <td>https://i.ytimg.com/vi/_uM5kFfkhB8/default.jpg</td>\n      <td>False</td>\n      <td>False</td>\n      <td>False</td>\n      <td>Vanoss Merch Shop: https://vanoss.3blackdot.co...</td>\n      <td>CA</td>\n      <td>,'funny moments','montage video games','gaming...</td>\n      <td>805.0</td>\n    </tr>\n    <tr>\n      <th>7</th>\n      <td>2kyS6SvSYSE</td>\n      <td>17.14.11</td>\n      <td>WE WANT TO TALK ABOUT OUR MARRIAGE</td>\n      <td>CaseyNeistat</td>\n      <td>2017-11-13T17:13:01.000Z</td>\n      <td>748374.0</td>\n      <td>57534.0</td>\n      <td>2967.0</td>\n      <td>15959.0</td>\n      <td>https://i.ytimg.com/vi/2kyS6SvSYSE/default.jpg</td>\n      <td>False</td>\n      <td>False</td>\n      <td>False</td>\n      <td>SHANTELL'S CHANNEL - https://www.youtube.com/s...</td>\n      <td>CA</td>\n      <td>,'shantell martin'</td>\n      <td>804.0</td>\n    </tr>\n    <tr>\n      <th>8</th>\n      <td>JzCsM1vtn78</td>\n      <td>17.14.11</td>\n      <td>THE LOGANG MADE HISTORY. LOL. AGAIN.</td>\n      <td>Logan Paul Vlogs</td>\n      <td>2017-11-12T20:19:24.000Z</td>\n      <td>4477587.0</td>\n      <td>292837.0</td>\n      <td>4123.0</td>\n      <td>36391.0</td>\n      <td>https://i.ytimg.com/vi/JzCsM1vtn78/default.jpg</td>\n      <td>False</td>\n      <td>False</td>\n      <td>False</td>\n      <td>Join the movement. Be a Maverick ► https://Sho...</td>\n      <td>CA</td>\n      <td>,'logan paul vlog','logan paul','logan','paul'...</td>\n      <td>806.0</td>\n    </tr>\n    <tr>\n      <th>9</th>\n      <td>43sm-QwLcx4</td>\n      <td>17.14.11</td>\n      <td>Finally Sheldon is winning an argument about t...</td>\n      <td>Sheikh Musa</td>\n      <td>2017-11-10T14:10:46.000Z</td>\n      <td>505161.0</td>\n      <td>4135.0</td>\n      <td>976.0</td>\n      <td>1484.0</td>\n      <td>https://i.ytimg.com/vi/43sm-QwLcx4/default.jpg</td>\n      <td>False</td>\n      <td>False</td>\n      <td>False</td>\n      <td>Sheldon is roasting pastor of the church\\nyoun...</td>\n      <td>CA</td>\n      <td>,'god','sheldon cooper','young sheldon'</td>\n      <td>804.0</td>\n    </tr>\n  </tbody>\n</table>\n</div>"
     },
     "execution_count": 10,
     "metadata": {},
     "output_type": "execute_result"
    },
    {
     "data": {
      "text/plain": "      video_id trending_date  \\\n0  n1WpP7iowLc      17.14.11   \n1  0dBIkQ4Mz1M      17.14.11   \n2  5qpjK5DgCt4      17.14.11   \n3  d380meD0W0M      17.14.11   \n4  2Vv-BfVoq4g      17.14.11   \n5  0yIWz1XEeyc      17.14.11   \n6  _uM5kFfkhB8      17.14.11   \n7  2kyS6SvSYSE      17.14.11   \n8  JzCsM1vtn78      17.14.11   \n9  43sm-QwLcx4      17.14.11   \n\n                                               title     channel_title  \\\n0         Eminem - Walk On Water (Audio) ft. Beyoncé        EminemVEVO   \n1                      PLUSH - Bad Unboxing Fan Mail         iDubbbzTV   \n2  Racist Superman | Rudy Mancuso, King Bach & Le...      Rudy Mancuso   \n3                           I Dare You: GOING BALD!?          nigahiga   \n4        Ed Sheeran - Perfect (Official Music Video)        Ed Sheeran   \n5  Jake Paul Says Alissa Violet CHEATED with LOGA...        DramaAlert   \n6             Vanoss Superhero School - New Students      VanossGaming   \n7                 WE WANT TO TALK ABOUT OUR MARRIAGE      CaseyNeistat   \n8               THE LOGANG MADE HISTORY. LOL. AGAIN.  Logan Paul Vlogs   \n9  Finally Sheldon is winning an argument about t...       Sheikh Musa   \n\n               publish_time       views      likes  dislikes  comment_count  \\\n0  2017-11-10T17:00:03.000Z  17158579.0   787425.0   43420.0       125882.0   \n1  2017-11-13T17:00:00.000Z   1014651.0   127794.0    1688.0        13030.0   \n2  2017-11-12T19:05:24.000Z   3191434.0   146035.0    5339.0         8181.0   \n3  2017-11-12T18:01:41.000Z   2095828.0   132239.0    1989.0        17518.0   \n4  2017-11-09T11:04:14.000Z  33523622.0  1634130.0   21082.0        85067.0   \n5  2017-11-13T07:37:51.000Z   1309699.0   103755.0    4613.0        12143.0   \n6  2017-11-12T23:52:13.000Z   2987945.0   187464.0    9850.0        26629.0   \n7  2017-11-13T17:13:01.000Z    748374.0    57534.0    2967.0        15959.0   \n8  2017-11-12T20:19:24.000Z   4477587.0   292837.0    4123.0        36391.0   \n9  2017-11-10T14:10:46.000Z    505161.0     4135.0     976.0         1484.0   \n\n                                   thumbnail_link comments_disabled  \\\n0  https://i.ytimg.com/vi/n1WpP7iowLc/default.jpg             False   \n1  https://i.ytimg.com/vi/0dBIkQ4Mz1M/default.jpg             False   \n2  https://i.ytimg.com/vi/5qpjK5DgCt4/default.jpg             False   \n3  https://i.ytimg.com/vi/d380meD0W0M/default.jpg             False   \n4  https://i.ytimg.com/vi/2Vv-BfVoq4g/default.jpg             False   \n5  https://i.ytimg.com/vi/0yIWz1XEeyc/default.jpg             False   \n6  https://i.ytimg.com/vi/_uM5kFfkhB8/default.jpg             False   \n7  https://i.ytimg.com/vi/2kyS6SvSYSE/default.jpg             False   \n8  https://i.ytimg.com/vi/JzCsM1vtn78/default.jpg             False   \n9  https://i.ytimg.com/vi/43sm-QwLcx4/default.jpg             False   \n\n  ratings_disabled video_error_or_removed  \\\n0            False                  False   \n1            False                  False   \n2            False                  False   \n3            False                  False   \n4            False                  False   \n5            False                  False   \n6            False                  False   \n7            False                  False   \n8            False                  False   \n9            False                  False   \n\n                                         description country  \\\n0  Eminem's new track Walk on Water ft. Beyoncé i...      CA   \n1  STill got a lot of packages. Probably will las...      CA   \n2  WATCH MY PREVIOUS VIDEO ▶ \\n\\nSUBSCRIBE ► http...      CA   \n3  I know it's been a while since we did this sho...      CA   \n4  🎧: https://ad.gt/yt-perfect\\n💰: https://atlant...      CA   \n5  ► Follow for News! - https://twitter.com/KEEMS...      CA   \n6  Vanoss Merch Shop: https://vanoss.3blackdot.co...      CA   \n7  SHANTELL'S CHANNEL - https://www.youtube.com/s...      CA   \n8  Join the movement. Be a Maverick ► https://Sho...      CA   \n9  Sheldon is roasting pastor of the church\\nyoun...      CA   \n\n                                                tags  category_id  \n0  ,'eminem','walk','on','water','aftermath/shady...        600.0  \n1  ,'plush','bad unboxing','unboxing','fan mail',...        805.0  \n2  ,'racist superman','rudy','mancuso','king','ba...        805.0  \n3  ,'ryan','higa','higatv','nigahiga','i dare you...        806.0  \n4  ,'edsheeran','ed sheeran','acoustic','live','c...        600.0  \n5  ,'#dramaalert','drama','alert','dramaalert','k...        102.0  \n6  ,'funny moments','montage video games','gaming...        805.0  \n7                                 ,'shantell martin'        804.0  \n8  ,'logan paul vlog','logan paul','logan','paul'...        806.0  \n9            ,'god','sheldon cooper','young sheldon'        804.0  ",
      "text/html": "<div>\n<style scoped>\n    .dataframe tbody tr th:only-of-type {\n        vertical-align: middle;\n    }\n\n    .dataframe tbody tr th {\n        vertical-align: top;\n    }\n\n    .dataframe thead th {\n        text-align: right;\n    }\n</style>\n<table border=\"1\" class=\"dataframe\">\n  <thead>\n    <tr style=\"text-align: right;\">\n      <th></th>\n      <th>video_id</th>\n      <th>trending_date</th>\n      <th>title</th>\n      <th>channel_title</th>\n      <th>publish_time</th>\n      <th>views</th>\n      <th>likes</th>\n      <th>dislikes</th>\n      <th>comment_count</th>\n      <th>thumbnail_link</th>\n      <th>comments_disabled</th>\n      <th>ratings_disabled</th>\n      <th>video_error_or_removed</th>\n      <th>description</th>\n      <th>country</th>\n      <th>tags</th>\n      <th>category_id</th>\n    </tr>\n  </thead>\n  <tbody>\n    <tr>\n      <th>0</th>\n      <td>n1WpP7iowLc</td>\n      <td>17.14.11</td>\n      <td>Eminem - Walk On Water (Audio) ft. Beyoncé</td>\n      <td>EminemVEVO</td>\n      <td>2017-11-10T17:00:03.000Z</td>\n      <td>17158579.0</td>\n      <td>787425.0</td>\n      <td>43420.0</td>\n      <td>125882.0</td>\n      <td>https://i.ytimg.com/vi/n1WpP7iowLc/default.jpg</td>\n      <td>False</td>\n      <td>False</td>\n      <td>False</td>\n      <td>Eminem's new track Walk on Water ft. Beyoncé i...</td>\n      <td>CA</td>\n      <td>,'eminem','walk','on','water','aftermath/shady...</td>\n      <td>600.0</td>\n    </tr>\n    <tr>\n      <th>1</th>\n      <td>0dBIkQ4Mz1M</td>\n      <td>17.14.11</td>\n      <td>PLUSH - Bad Unboxing Fan Mail</td>\n      <td>iDubbbzTV</td>\n      <td>2017-11-13T17:00:00.000Z</td>\n      <td>1014651.0</td>\n      <td>127794.0</td>\n      <td>1688.0</td>\n      <td>13030.0</td>\n      <td>https://i.ytimg.com/vi/0dBIkQ4Mz1M/default.jpg</td>\n      <td>False</td>\n      <td>False</td>\n      <td>False</td>\n      <td>STill got a lot of packages. Probably will las...</td>\n      <td>CA</td>\n      <td>,'plush','bad unboxing','unboxing','fan mail',...</td>\n      <td>805.0</td>\n    </tr>\n    <tr>\n      <th>2</th>\n      <td>5qpjK5DgCt4</td>\n      <td>17.14.11</td>\n      <td>Racist Superman | Rudy Mancuso, King Bach &amp; Le...</td>\n      <td>Rudy Mancuso</td>\n      <td>2017-11-12T19:05:24.000Z</td>\n      <td>3191434.0</td>\n      <td>146035.0</td>\n      <td>5339.0</td>\n      <td>8181.0</td>\n      <td>https://i.ytimg.com/vi/5qpjK5DgCt4/default.jpg</td>\n      <td>False</td>\n      <td>False</td>\n      <td>False</td>\n      <td>WATCH MY PREVIOUS VIDEO ▶ \\n\\nSUBSCRIBE ► http...</td>\n      <td>CA</td>\n      <td>,'racist superman','rudy','mancuso','king','ba...</td>\n      <td>805.0</td>\n    </tr>\n    <tr>\n      <th>3</th>\n      <td>d380meD0W0M</td>\n      <td>17.14.11</td>\n      <td>I Dare You: GOING BALD!?</td>\n      <td>nigahiga</td>\n      <td>2017-11-12T18:01:41.000Z</td>\n      <td>2095828.0</td>\n      <td>132239.0</td>\n      <td>1989.0</td>\n      <td>17518.0</td>\n      <td>https://i.ytimg.com/vi/d380meD0W0M/default.jpg</td>\n      <td>False</td>\n      <td>False</td>\n      <td>False</td>\n      <td>I know it's been a while since we did this sho...</td>\n      <td>CA</td>\n      <td>,'ryan','higa','higatv','nigahiga','i dare you...</td>\n      <td>806.0</td>\n    </tr>\n    <tr>\n      <th>4</th>\n      <td>2Vv-BfVoq4g</td>\n      <td>17.14.11</td>\n      <td>Ed Sheeran - Perfect (Official Music Video)</td>\n      <td>Ed Sheeran</td>\n      <td>2017-11-09T11:04:14.000Z</td>\n      <td>33523622.0</td>\n      <td>1634130.0</td>\n      <td>21082.0</td>\n      <td>85067.0</td>\n      <td>https://i.ytimg.com/vi/2Vv-BfVoq4g/default.jpg</td>\n      <td>False</td>\n      <td>False</td>\n      <td>False</td>\n      <td>🎧: https://ad.gt/yt-perfect\\n💰: https://atlant...</td>\n      <td>CA</td>\n      <td>,'edsheeran','ed sheeran','acoustic','live','c...</td>\n      <td>600.0</td>\n    </tr>\n    <tr>\n      <th>5</th>\n      <td>0yIWz1XEeyc</td>\n      <td>17.14.11</td>\n      <td>Jake Paul Says Alissa Violet CHEATED with LOGA...</td>\n      <td>DramaAlert</td>\n      <td>2017-11-13T07:37:51.000Z</td>\n      <td>1309699.0</td>\n      <td>103755.0</td>\n      <td>4613.0</td>\n      <td>12143.0</td>\n      <td>https://i.ytimg.com/vi/0yIWz1XEeyc/default.jpg</td>\n      <td>False</td>\n      <td>False</td>\n      <td>False</td>\n      <td>► Follow for News! - https://twitter.com/KEEMS...</td>\n      <td>CA</td>\n      <td>,'#dramaalert','drama','alert','dramaalert','k...</td>\n      <td>102.0</td>\n    </tr>\n    <tr>\n      <th>6</th>\n      <td>_uM5kFfkhB8</td>\n      <td>17.14.11</td>\n      <td>Vanoss Superhero School - New Students</td>\n      <td>VanossGaming</td>\n      <td>2017-11-12T23:52:13.000Z</td>\n      <td>2987945.0</td>\n      <td>187464.0</td>\n      <td>9850.0</td>\n      <td>26629.0</td>\n      <td>https://i.ytimg.com/vi/_uM5kFfkhB8/default.jpg</td>\n      <td>False</td>\n      <td>False</td>\n      <td>False</td>\n      <td>Vanoss Merch Shop: https://vanoss.3blackdot.co...</td>\n      <td>CA</td>\n      <td>,'funny moments','montage video games','gaming...</td>\n      <td>805.0</td>\n    </tr>\n    <tr>\n      <th>7</th>\n      <td>2kyS6SvSYSE</td>\n      <td>17.14.11</td>\n      <td>WE WANT TO TALK ABOUT OUR MARRIAGE</td>\n      <td>CaseyNeistat</td>\n      <td>2017-11-13T17:13:01.000Z</td>\n      <td>748374.0</td>\n      <td>57534.0</td>\n      <td>2967.0</td>\n      <td>15959.0</td>\n      <td>https://i.ytimg.com/vi/2kyS6SvSYSE/default.jpg</td>\n      <td>False</td>\n      <td>False</td>\n      <td>False</td>\n      <td>SHANTELL'S CHANNEL - https://www.youtube.com/s...</td>\n      <td>CA</td>\n      <td>,'shantell martin'</td>\n      <td>804.0</td>\n    </tr>\n    <tr>\n      <th>8</th>\n      <td>JzCsM1vtn78</td>\n      <td>17.14.11</td>\n      <td>THE LOGANG MADE HISTORY. LOL. AGAIN.</td>\n      <td>Logan Paul Vlogs</td>\n      <td>2017-11-12T20:19:24.000Z</td>\n      <td>4477587.0</td>\n      <td>292837.0</td>\n      <td>4123.0</td>\n      <td>36391.0</td>\n      <td>https://i.ytimg.com/vi/JzCsM1vtn78/default.jpg</td>\n      <td>False</td>\n      <td>False</td>\n      <td>False</td>\n      <td>Join the movement. Be a Maverick ► https://Sho...</td>\n      <td>CA</td>\n      <td>,'logan paul vlog','logan paul','logan','paul'...</td>\n      <td>806.0</td>\n    </tr>\n    <tr>\n      <th>9</th>\n      <td>43sm-QwLcx4</td>\n      <td>17.14.11</td>\n      <td>Finally Sheldon is winning an argument about t...</td>\n      <td>Sheikh Musa</td>\n      <td>2017-11-10T14:10:46.000Z</td>\n      <td>505161.0</td>\n      <td>4135.0</td>\n      <td>976.0</td>\n      <td>1484.0</td>\n      <td>https://i.ytimg.com/vi/43sm-QwLcx4/default.jpg</td>\n      <td>False</td>\n      <td>False</td>\n      <td>False</td>\n      <td>Sheldon is roasting pastor of the church\\nyoun...</td>\n      <td>CA</td>\n      <td>,'god','sheldon cooper','young sheldon'</td>\n      <td>804.0</td>\n    </tr>\n  </tbody>\n</table>\n</div>"
     },
     "execution_count": 24,
     "metadata": {},
     "output_type": "execute_result"
    }
   ],
   "source": [
    "df.columns = clean_columns(df.columns)\n",
    "df.head(10)"
   ],
   "metadata": {
    "collapsed": false,
    "pycharm": {
     "name": "#%%\n"
    }
   }
  },
  {
   "cell_type": "markdown",
   "source": [
    " ### Trending | Column Transformation\n",
    "* Remove trending_date, channel_title, publish_time, likes, dislikes, comment_count, thumbnail_link, comments_disabled, rating_disabled, video_error_or_removed, country\n",
    "* Rearrange the columns"
   ],
   "metadata": {
    "collapsed": false,
    "pycharm": {
     "name": "#%% md\n"
    }
   }
  },
  {
   "cell_type": "code",
   "execution_count": 25,
   "outputs": [
    {
     "data": {
      "text/plain": "      video_id  category_id  \\\n0  n1WpP7iowLc        600.0   \n1  0dBIkQ4Mz1M        805.0   \n2  5qpjK5DgCt4        805.0   \n3  d380meD0W0M        806.0   \n4  2Vv-BfVoq4g        600.0   \n5  0yIWz1XEeyc        102.0   \n6  _uM5kFfkhB8        805.0   \n7  2kyS6SvSYSE        804.0   \n8  JzCsM1vtn78        806.0   \n9  43sm-QwLcx4        804.0   \n\n                                               title  \\\n0         Eminem - Walk On Water (Audio) ft. Beyoncé   \n1                      PLUSH - Bad Unboxing Fan Mail   \n2  Racist Superman | Rudy Mancuso, King Bach & Le...   \n3                           I Dare You: GOING BALD!?   \n4        Ed Sheeran - Perfect (Official Music Video)   \n5  Jake Paul Says Alissa Violet CHEATED with LOGA...   \n6             Vanoss Superhero School - New Students   \n7                 WE WANT TO TALK ABOUT OUR MARRIAGE   \n8               THE LOGANG MADE HISTORY. LOL. AGAIN.   \n9  Finally Sheldon is winning an argument about t...   \n\n                                         description  \\\n0  Eminem's new track Walk on Water ft. Beyoncé i...   \n1  STill got a lot of packages. Probably will las...   \n2  WATCH MY PREVIOUS VIDEO ▶ \\n\\nSUBSCRIBE ► http...   \n3  I know it's been a while since we did this sho...   \n4  🎧: https://ad.gt/yt-perfect\\n💰: https://atlant...   \n5  ► Follow for News! - https://twitter.com/KEEMS...   \n6  Vanoss Merch Shop: https://vanoss.3blackdot.co...   \n7  SHANTELL'S CHANNEL - https://www.youtube.com/s...   \n8  Join the movement. Be a Maverick ► https://Sho...   \n9  Sheldon is roasting pastor of the church\\nyoun...   \n\n                                                tags  \n0  ,'eminem','walk','on','water','aftermath/shady...  \n1  ,'plush','bad unboxing','unboxing','fan mail',...  \n2  ,'racist superman','rudy','mancuso','king','ba...  \n3  ,'ryan','higa','higatv','nigahiga','i dare you...  \n4  ,'edsheeran','ed sheeran','acoustic','live','c...  \n5  ,'#dramaalert','drama','alert','dramaalert','k...  \n6  ,'funny moments','montage video games','gaming...  \n7                                 ,'shantell martin'  \n8  ,'logan paul vlog','logan paul','logan','paul'...  \n9            ,'god','sheldon cooper','young sheldon'  ",
      "text/html": "<div>\n<style scoped>\n    .dataframe tbody tr th:only-of-type {\n        vertical-align: middle;\n    }\n\n    .dataframe tbody tr th {\n        vertical-align: top;\n    }\n\n    .dataframe thead th {\n        text-align: right;\n    }\n</style>\n<table border=\"1\" class=\"dataframe\">\n  <thead>\n    <tr style=\"text-align: right;\">\n      <th></th>\n      <th>video_id</th>\n      <th>category_id</th>\n      <th>title</th>\n      <th>description</th>\n      <th>tags</th>\n    </tr>\n  </thead>\n  <tbody>\n    <tr>\n      <th>0</th>\n      <td>n1WpP7iowLc</td>\n      <td>600.0</td>\n      <td>Eminem - Walk On Water (Audio) ft. Beyoncé</td>\n      <td>Eminem's new track Walk on Water ft. Beyoncé i...</td>\n      <td>,'eminem','walk','on','water','aftermath/shady...</td>\n    </tr>\n    <tr>\n      <th>1</th>\n      <td>0dBIkQ4Mz1M</td>\n      <td>805.0</td>\n      <td>PLUSH - Bad Unboxing Fan Mail</td>\n      <td>STill got a lot of packages. Probably will las...</td>\n      <td>,'plush','bad unboxing','unboxing','fan mail',...</td>\n    </tr>\n    <tr>\n      <th>2</th>\n      <td>5qpjK5DgCt4</td>\n      <td>805.0</td>\n      <td>Racist Superman | Rudy Mancuso, King Bach &amp; Le...</td>\n      <td>WATCH MY PREVIOUS VIDEO ▶ \\n\\nSUBSCRIBE ► http...</td>\n      <td>,'racist superman','rudy','mancuso','king','ba...</td>\n    </tr>\n    <tr>\n      <th>3</th>\n      <td>d380meD0W0M</td>\n      <td>806.0</td>\n      <td>I Dare You: GOING BALD!?</td>\n      <td>I know it's been a while since we did this sho...</td>\n      <td>,'ryan','higa','higatv','nigahiga','i dare you...</td>\n    </tr>\n    <tr>\n      <th>4</th>\n      <td>2Vv-BfVoq4g</td>\n      <td>600.0</td>\n      <td>Ed Sheeran - Perfect (Official Music Video)</td>\n      <td>🎧: https://ad.gt/yt-perfect\\n💰: https://atlant...</td>\n      <td>,'edsheeran','ed sheeran','acoustic','live','c...</td>\n    </tr>\n    <tr>\n      <th>5</th>\n      <td>0yIWz1XEeyc</td>\n      <td>102.0</td>\n      <td>Jake Paul Says Alissa Violet CHEATED with LOGA...</td>\n      <td>► Follow for News! - https://twitter.com/KEEMS...</td>\n      <td>,'#dramaalert','drama','alert','dramaalert','k...</td>\n    </tr>\n    <tr>\n      <th>6</th>\n      <td>_uM5kFfkhB8</td>\n      <td>805.0</td>\n      <td>Vanoss Superhero School - New Students</td>\n      <td>Vanoss Merch Shop: https://vanoss.3blackdot.co...</td>\n      <td>,'funny moments','montage video games','gaming...</td>\n    </tr>\n    <tr>\n      <th>7</th>\n      <td>2kyS6SvSYSE</td>\n      <td>804.0</td>\n      <td>WE WANT TO TALK ABOUT OUR MARRIAGE</td>\n      <td>SHANTELL'S CHANNEL - https://www.youtube.com/s...</td>\n      <td>,'shantell martin'</td>\n    </tr>\n    <tr>\n      <th>8</th>\n      <td>JzCsM1vtn78</td>\n      <td>806.0</td>\n      <td>THE LOGANG MADE HISTORY. LOL. AGAIN.</td>\n      <td>Join the movement. Be a Maverick ► https://Sho...</td>\n      <td>,'logan paul vlog','logan paul','logan','paul'...</td>\n    </tr>\n    <tr>\n      <th>9</th>\n      <td>43sm-QwLcx4</td>\n      <td>804.0</td>\n      <td>Finally Sheldon is winning an argument about t...</td>\n      <td>Sheldon is roasting pastor of the church\\nyoun...</td>\n      <td>,'god','sheldon cooper','young sheldon'</td>\n    </tr>\n  </tbody>\n</table>\n</div>"
     },
     "execution_count": 11,
     "metadata": {},
     "output_type": "execute_result"
    },
    {
     "data": {
      "text/plain": "      video_id  category_id  \\\n0  n1WpP7iowLc        600.0   \n1  0dBIkQ4Mz1M        805.0   \n2  5qpjK5DgCt4        805.0   \n3  d380meD0W0M        806.0   \n4  2Vv-BfVoq4g        600.0   \n5  0yIWz1XEeyc        102.0   \n6  _uM5kFfkhB8        805.0   \n7  2kyS6SvSYSE        804.0   \n8  JzCsM1vtn78        806.0   \n9  43sm-QwLcx4        804.0   \n\n                                               title  \\\n0         Eminem - Walk On Water (Audio) ft. Beyoncé   \n1                      PLUSH - Bad Unboxing Fan Mail   \n2  Racist Superman | Rudy Mancuso, King Bach & Le...   \n3                           I Dare You: GOING BALD!?   \n4        Ed Sheeran - Perfect (Official Music Video)   \n5  Jake Paul Says Alissa Violet CHEATED with LOGA...   \n6             Vanoss Superhero School - New Students   \n7                 WE WANT TO TALK ABOUT OUR MARRIAGE   \n8               THE LOGANG MADE HISTORY. LOL. AGAIN.   \n9  Finally Sheldon is winning an argument about t...   \n\n                                         description  \\\n0  Eminem's new track Walk on Water ft. Beyoncé i...   \n1  STill got a lot of packages. Probably will las...   \n2  WATCH MY PREVIOUS VIDEO ▶ \\n\\nSUBSCRIBE ► http...   \n3  I know it's been a while since we did this sho...   \n4  🎧: https://ad.gt/yt-perfect\\n💰: https://atlant...   \n5  ► Follow for News! - https://twitter.com/KEEMS...   \n6  Vanoss Merch Shop: https://vanoss.3blackdot.co...   \n7  SHANTELL'S CHANNEL - https://www.youtube.com/s...   \n8  Join the movement. Be a Maverick ► https://Sho...   \n9  Sheldon is roasting pastor of the church\\nyoun...   \n\n                                                tags  \n0  ,'eminem','walk','on','water','aftermath/shady...  \n1  ,'plush','bad unboxing','unboxing','fan mail',...  \n2  ,'racist superman','rudy','mancuso','king','ba...  \n3  ,'ryan','higa','higatv','nigahiga','i dare you...  \n4  ,'edsheeran','ed sheeran','acoustic','live','c...  \n5  ,'#dramaalert','drama','alert','dramaalert','k...  \n6  ,'funny moments','montage video games','gaming...  \n7                                 ,'shantell martin'  \n8  ,'logan paul vlog','logan paul','logan','paul'...  \n9            ,'god','sheldon cooper','young sheldon'  ",
      "text/html": "<div>\n<style scoped>\n    .dataframe tbody tr th:only-of-type {\n        vertical-align: middle;\n    }\n\n    .dataframe tbody tr th {\n        vertical-align: top;\n    }\n\n    .dataframe thead th {\n        text-align: right;\n    }\n</style>\n<table border=\"1\" class=\"dataframe\">\n  <thead>\n    <tr style=\"text-align: right;\">\n      <th></th>\n      <th>video_id</th>\n      <th>category_id</th>\n      <th>title</th>\n      <th>description</th>\n      <th>tags</th>\n    </tr>\n  </thead>\n  <tbody>\n    <tr>\n      <th>0</th>\n      <td>n1WpP7iowLc</td>\n      <td>600.0</td>\n      <td>Eminem - Walk On Water (Audio) ft. Beyoncé</td>\n      <td>Eminem's new track Walk on Water ft. Beyoncé i...</td>\n      <td>,'eminem','walk','on','water','aftermath/shady...</td>\n    </tr>\n    <tr>\n      <th>1</th>\n      <td>0dBIkQ4Mz1M</td>\n      <td>805.0</td>\n      <td>PLUSH - Bad Unboxing Fan Mail</td>\n      <td>STill got a lot of packages. Probably will las...</td>\n      <td>,'plush','bad unboxing','unboxing','fan mail',...</td>\n    </tr>\n    <tr>\n      <th>2</th>\n      <td>5qpjK5DgCt4</td>\n      <td>805.0</td>\n      <td>Racist Superman | Rudy Mancuso, King Bach &amp; Le...</td>\n      <td>WATCH MY PREVIOUS VIDEO ▶ \\n\\nSUBSCRIBE ► http...</td>\n      <td>,'racist superman','rudy','mancuso','king','ba...</td>\n    </tr>\n    <tr>\n      <th>3</th>\n      <td>d380meD0W0M</td>\n      <td>806.0</td>\n      <td>I Dare You: GOING BALD!?</td>\n      <td>I know it's been a while since we did this sho...</td>\n      <td>,'ryan','higa','higatv','nigahiga','i dare you...</td>\n    </tr>\n    <tr>\n      <th>4</th>\n      <td>2Vv-BfVoq4g</td>\n      <td>600.0</td>\n      <td>Ed Sheeran - Perfect (Official Music Video)</td>\n      <td>🎧: https://ad.gt/yt-perfect\\n💰: https://atlant...</td>\n      <td>,'edsheeran','ed sheeran','acoustic','live','c...</td>\n    </tr>\n    <tr>\n      <th>5</th>\n      <td>0yIWz1XEeyc</td>\n      <td>102.0</td>\n      <td>Jake Paul Says Alissa Violet CHEATED with LOGA...</td>\n      <td>► Follow for News! - https://twitter.com/KEEMS...</td>\n      <td>,'#dramaalert','drama','alert','dramaalert','k...</td>\n    </tr>\n    <tr>\n      <th>6</th>\n      <td>_uM5kFfkhB8</td>\n      <td>805.0</td>\n      <td>Vanoss Superhero School - New Students</td>\n      <td>Vanoss Merch Shop: https://vanoss.3blackdot.co...</td>\n      <td>,'funny moments','montage video games','gaming...</td>\n    </tr>\n    <tr>\n      <th>7</th>\n      <td>2kyS6SvSYSE</td>\n      <td>804.0</td>\n      <td>WE WANT TO TALK ABOUT OUR MARRIAGE</td>\n      <td>SHANTELL'S CHANNEL - https://www.youtube.com/s...</td>\n      <td>,'shantell martin'</td>\n    </tr>\n    <tr>\n      <th>8</th>\n      <td>JzCsM1vtn78</td>\n      <td>806.0</td>\n      <td>THE LOGANG MADE HISTORY. LOL. AGAIN.</td>\n      <td>Join the movement. Be a Maverick ► https://Sho...</td>\n      <td>,'logan paul vlog','logan paul','logan','paul'...</td>\n    </tr>\n    <tr>\n      <th>9</th>\n      <td>43sm-QwLcx4</td>\n      <td>804.0</td>\n      <td>Finally Sheldon is winning an argument about t...</td>\n      <td>Sheldon is roasting pastor of the church\\nyoun...</td>\n      <td>,'god','sheldon cooper','young sheldon'</td>\n    </tr>\n  </tbody>\n</table>\n</div>"
     },
     "execution_count": 25,
     "metadata": {},
     "output_type": "execute_result"
    }
   ],
   "source": [
    "df = df.drop([\"trending_date\", \"channel_title\", \"publish_time\", \"likes\", \"dislikes\", \"comment_count\", \"thumbnail_link\", \"comments_disabled\", \"ratings_disabled\", \"video_error_or_removed\", \"country\"], axis = 1)\n",
    "\n",
    "df = df.reindex(columns=[\"video_id\", \"category_id\", \"title\", \"description\", \"tags\"])\n",
    "\n",
    "df.head(10)"
   ],
   "metadata": {
    "collapsed": false,
    "pycharm": {
     "name": "#%%\n"
    }
   }
  },
  {
   "cell_type": "markdown",
   "source": [
    "### Trending | Data Clean Up\n",
    "* Remove duplicates\n",
    "* Clean numeric data types\n",
    "* Clean text data types\n",
    "* Remove urls from description column\n",
    "* Remove pronouns\n",
    "* Sort data"
   ],
   "metadata": {
    "collapsed": false,
    "pycharm": {
     "name": "#%% md\n"
    }
   }
  },
  {
   "cell_type": "code",
   "execution_count": 26,
   "outputs": [
    {
     "data": {
      "text/plain": "                                                video_id  category_id  \\\n28433                                        XkGTE4WMMko            0   \n37714                                        piO-68zx2UQ            0   \n2456                                         1aig3FJwkQs            0   \n37721                                        P_xXvDNZjHI            0   \n31897                                        NqygMHtn2wU            0   \n31891                                        T5b65lgsvsM            0   \n37736                                        PKrD9rqjvYE            0   \n19006                                        1eXyk9ie0H0            0   \n31881  \\nMust-See WWE videos on YouTube: https://goo....            0   \n31878                                        4kN-FlYp5rE            0   \n\n                                                   title  \\\n28433                 A BANANA PHONE?! - What the Fruit?   \n37714  Molly Makes Fresh Herb Falafel | From the Test...   \n2456     ART with PERMANENT MARKERS? - No Undo Possible!   \n37721                3 EASY SUMMER SALADS | hot for food   \n31897  Fung Bros and Sean Evans Review International ...   \n31891  THE SIMPSONS and RICK AND MORTY - Style SWAP C...   \n37736  House of VERSACE Fashion Cake | Man About Cake...   \n19006  HARLEY QUINN MALLET TUTORIAL (ft. Glam&Gore) |...   \n31881  ,'wwe','world wrestling entertainment','wrestl...   \n31878  Ronda Rousey locks Mickie James in an armbar d...   \n\n                                             description  \\\n28433  Current Banana phone pricing:  you have NOT tr...   \n37714  Once you make this falafel recipe, you'll neve...   \n2456   ➨ Get my APP, Courses, eBooks, Brushes and mor...   \n37721  Make these 3 easy summer salads to get your gr...   \n31897  Instant ramen is one of the world's most ubiqu...   \n31891  Sub for more fun with art!\\nMusic Remix credit...   \n37736  To celebrate his love of fashion (and his obse...   \n19006  HEY HEY HEY HEY! Welcome back for Episode 2 of...   \n31881                                                ...   \n31878  As Raw's main event descends into chaos, Ronda...   \n\n                                                    tags  \n28433  ,'banana phone','apple','iphone','bluetooth','...  \n37714  ,'falafel','falafel ball recipe','herbs','tahi...  \n2456   ,'josiah','brooks','jazza','jazzastudios','ani...  \n37721  ,'veganism','healthy','vegetarian','vegan','ve...  \n31897  ,'first we feast','fwf','firstwefeast','food',...  \n31891  ,'josiah','brooks','jazza','jazzastudios','ani...  \n37736  ,'man about cake','joshua john russell','craft...  \n19006  ,'alexa poletti','alexapoletti','harley quinn'...  \n31881                                                ...  \n31878                                                ...  ",
      "text/html": "<div>\n<style scoped>\n    .dataframe tbody tr th:only-of-type {\n        vertical-align: middle;\n    }\n\n    .dataframe tbody tr th {\n        vertical-align: top;\n    }\n\n    .dataframe thead th {\n        text-align: right;\n    }\n</style>\n<table border=\"1\" class=\"dataframe\">\n  <thead>\n    <tr style=\"text-align: right;\">\n      <th></th>\n      <th>video_id</th>\n      <th>category_id</th>\n      <th>title</th>\n      <th>description</th>\n      <th>tags</th>\n    </tr>\n  </thead>\n  <tbody>\n    <tr>\n      <th>28433</th>\n      <td>XkGTE4WMMko</td>\n      <td>0</td>\n      <td>A BANANA PHONE?! - What the Fruit?</td>\n      <td>Current Banana phone pricing:  you have NOT tr...</td>\n      <td>,'banana phone','apple','iphone','bluetooth','...</td>\n    </tr>\n    <tr>\n      <th>37714</th>\n      <td>piO-68zx2UQ</td>\n      <td>0</td>\n      <td>Molly Makes Fresh Herb Falafel | From the Test...</td>\n      <td>Once you make this falafel recipe, you'll neve...</td>\n      <td>,'falafel','falafel ball recipe','herbs','tahi...</td>\n    </tr>\n    <tr>\n      <th>2456</th>\n      <td>1aig3FJwkQs</td>\n      <td>0</td>\n      <td>ART with PERMANENT MARKERS? - No Undo Possible!</td>\n      <td>➨ Get my APP, Courses, eBooks, Brushes and mor...</td>\n      <td>,'josiah','brooks','jazza','jazzastudios','ani...</td>\n    </tr>\n    <tr>\n      <th>37721</th>\n      <td>P_xXvDNZjHI</td>\n      <td>0</td>\n      <td>3 EASY SUMMER SALADS | hot for food</td>\n      <td>Make these 3 easy summer salads to get your gr...</td>\n      <td>,'veganism','healthy','vegetarian','vegan','ve...</td>\n    </tr>\n    <tr>\n      <th>31897</th>\n      <td>NqygMHtn2wU</td>\n      <td>0</td>\n      <td>Fung Bros and Sean Evans Review International ...</td>\n      <td>Instant ramen is one of the world's most ubiqu...</td>\n      <td>,'first we feast','fwf','firstwefeast','food',...</td>\n    </tr>\n    <tr>\n      <th>31891</th>\n      <td>T5b65lgsvsM</td>\n      <td>0</td>\n      <td>THE SIMPSONS and RICK AND MORTY - Style SWAP C...</td>\n      <td>Sub for more fun with art!\\nMusic Remix credit...</td>\n      <td>,'josiah','brooks','jazza','jazzastudios','ani...</td>\n    </tr>\n    <tr>\n      <th>37736</th>\n      <td>PKrD9rqjvYE</td>\n      <td>0</td>\n      <td>House of VERSACE Fashion Cake | Man About Cake...</td>\n      <td>To celebrate his love of fashion (and his obse...</td>\n      <td>,'man about cake','joshua john russell','craft...</td>\n    </tr>\n    <tr>\n      <th>19006</th>\n      <td>1eXyk9ie0H0</td>\n      <td>0</td>\n      <td>HARLEY QUINN MALLET TUTORIAL (ft. Glam&amp;Gore) |...</td>\n      <td>HEY HEY HEY HEY! Welcome back for Episode 2 of...</td>\n      <td>,'alexa poletti','alexapoletti','harley quinn'...</td>\n    </tr>\n    <tr>\n      <th>31881</th>\n      <td>\\nMust-See WWE videos on YouTube: https://goo....</td>\n      <td>0</td>\n      <td>,'wwe','world wrestling entertainment','wrestl...</td>\n      <td>...</td>\n      <td>...</td>\n    </tr>\n    <tr>\n      <th>31878</th>\n      <td>4kN-FlYp5rE</td>\n      <td>0</td>\n      <td>Ronda Rousey locks Mickie James in an armbar d...</td>\n      <td>As Raw's main event descends into chaos, Ronda...</td>\n      <td>...</td>\n    </tr>\n  </tbody>\n</table>\n</div>"
     },
     "execution_count": 12,
     "metadata": {},
     "output_type": "execute_result"
    },
    {
     "data": {
      "text/plain": "                                                video_id  category_id  \\\n28433                                        XkGTE4WMMko            0   \n37714                                        piO-68zx2UQ            0   \n2456                                         1aig3FJwkQs            0   \n37721                                        P_xXvDNZjHI            0   \n31897                                        NqygMHtn2wU            0   \n31891                                        T5b65lgsvsM            0   \n37736                                        PKrD9rqjvYE            0   \n19006                                        1eXyk9ie0H0            0   \n31881  \\nMust-See WWE videos on YouTube: https://goo....            0   \n31878                                        4kN-FlYp5rE            0   \n\n                                                   title  \\\n28433                 A BANANA PHONE?! - What the Fruit?   \n37714  Molly Makes Fresh Herb Falafel | From the Test...   \n2456     ART with PERMANENT MARKERS? - No Undo Possible!   \n37721                3 EASY SUMMER SALADS | hot for food   \n31897  Fung Bros and Sean Evans Review International ...   \n31891  THE SIMPSONS and RICK AND MORTY - Style SWAP C...   \n37736  House of VERSACE Fashion Cake | Man About Cake...   \n19006  HARLEY QUINN MALLET TUTORIAL (ft. Glam&Gore) |...   \n31881  ,'wwe','world wrestling entertainment','wrestl...   \n31878  Ronda Rousey locks Mickie James in an armbar d...   \n\n                                             description  \\\n28433  Current Banana phone pricing:  you have NOT tr...   \n37714  Once you make this falafel recipe, you'll neve...   \n2456   ➨ Get my APP, Courses, eBooks, Brushes and mor...   \n37721  Make these 3 easy summer salads to get your gr...   \n31897  Instant ramen is one of the world's most ubiqu...   \n31891  Sub for more fun with art!\\nMusic Remix credit...   \n37736  To celebrate his love of fashion (and his obse...   \n19006  HEY HEY HEY HEY! Welcome back for Episode 2 of...   \n31881                                                ...   \n31878  As Raw's main event descends into chaos, Ronda...   \n\n                                                    tags  \n28433  ,'banana phone','apple','iphone','bluetooth','...  \n37714  ,'falafel','falafel ball recipe','herbs','tahi...  \n2456   ,'josiah','brooks','jazza','jazzastudios','ani...  \n37721  ,'veganism','healthy','vegetarian','vegan','ve...  \n31897  ,'first we feast','fwf','firstwefeast','food',...  \n31891  ,'josiah','brooks','jazza','jazzastudios','ani...  \n37736  ,'man about cake','joshua john russell','craft...  \n19006  ,'alexa poletti','alexapoletti','harley quinn'...  \n31881                                                ...  \n31878                                                ...  ",
      "text/html": "<div>\n<style scoped>\n    .dataframe tbody tr th:only-of-type {\n        vertical-align: middle;\n    }\n\n    .dataframe tbody tr th {\n        vertical-align: top;\n    }\n\n    .dataframe thead th {\n        text-align: right;\n    }\n</style>\n<table border=\"1\" class=\"dataframe\">\n  <thead>\n    <tr style=\"text-align: right;\">\n      <th></th>\n      <th>video_id</th>\n      <th>category_id</th>\n      <th>title</th>\n      <th>description</th>\n      <th>tags</th>\n    </tr>\n  </thead>\n  <tbody>\n    <tr>\n      <th>28433</th>\n      <td>XkGTE4WMMko</td>\n      <td>0</td>\n      <td>A BANANA PHONE?! - What the Fruit?</td>\n      <td>Current Banana phone pricing:  you have NOT tr...</td>\n      <td>,'banana phone','apple','iphone','bluetooth','...</td>\n    </tr>\n    <tr>\n      <th>37714</th>\n      <td>piO-68zx2UQ</td>\n      <td>0</td>\n      <td>Molly Makes Fresh Herb Falafel | From the Test...</td>\n      <td>Once you make this falafel recipe, you'll neve...</td>\n      <td>,'falafel','falafel ball recipe','herbs','tahi...</td>\n    </tr>\n    <tr>\n      <th>2456</th>\n      <td>1aig3FJwkQs</td>\n      <td>0</td>\n      <td>ART with PERMANENT MARKERS? - No Undo Possible!</td>\n      <td>➨ Get my APP, Courses, eBooks, Brushes and mor...</td>\n      <td>,'josiah','brooks','jazza','jazzastudios','ani...</td>\n    </tr>\n    <tr>\n      <th>37721</th>\n      <td>P_xXvDNZjHI</td>\n      <td>0</td>\n      <td>3 EASY SUMMER SALADS | hot for food</td>\n      <td>Make these 3 easy summer salads to get your gr...</td>\n      <td>,'veganism','healthy','vegetarian','vegan','ve...</td>\n    </tr>\n    <tr>\n      <th>31897</th>\n      <td>NqygMHtn2wU</td>\n      <td>0</td>\n      <td>Fung Bros and Sean Evans Review International ...</td>\n      <td>Instant ramen is one of the world's most ubiqu...</td>\n      <td>,'first we feast','fwf','firstwefeast','food',...</td>\n    </tr>\n    <tr>\n      <th>31891</th>\n      <td>T5b65lgsvsM</td>\n      <td>0</td>\n      <td>THE SIMPSONS and RICK AND MORTY - Style SWAP C...</td>\n      <td>Sub for more fun with art!\\nMusic Remix credit...</td>\n      <td>,'josiah','brooks','jazza','jazzastudios','ani...</td>\n    </tr>\n    <tr>\n      <th>37736</th>\n      <td>PKrD9rqjvYE</td>\n      <td>0</td>\n      <td>House of VERSACE Fashion Cake | Man About Cake...</td>\n      <td>To celebrate his love of fashion (and his obse...</td>\n      <td>,'man about cake','joshua john russell','craft...</td>\n    </tr>\n    <tr>\n      <th>19006</th>\n      <td>1eXyk9ie0H0</td>\n      <td>0</td>\n      <td>HARLEY QUINN MALLET TUTORIAL (ft. Glam&amp;Gore) |...</td>\n      <td>HEY HEY HEY HEY! Welcome back for Episode 2 of...</td>\n      <td>,'alexa poletti','alexapoletti','harley quinn'...</td>\n    </tr>\n    <tr>\n      <th>31881</th>\n      <td>\\nMust-See WWE videos on YouTube: https://goo....</td>\n      <td>0</td>\n      <td>,'wwe','world wrestling entertainment','wrestl...</td>\n      <td>...</td>\n      <td>...</td>\n    </tr>\n    <tr>\n      <th>31878</th>\n      <td>4kN-FlYp5rE</td>\n      <td>0</td>\n      <td>Ronda Rousey locks Mickie James in an armbar d...</td>\n      <td>As Raw's main event descends into chaos, Ronda...</td>\n      <td>...</td>\n    </tr>\n  </tbody>\n</table>\n</div>"
     },
     "execution_count": 26,
     "metadata": {},
     "output_type": "execute_result"
    }
   ],
   "source": [
    "df = df.drop_duplicates(subset=None, keep=\"first\", inplace=False)\n",
    "\n",
    "df[[\"video_id\", \"category_id\"]] = df[[\"video_id\", \"category_id\"]].fillna(value=0)\n",
    "\n",
    "df[\"category_id\"] = df[\"category_id\"].astype(\"int32\")\n",
    "\n",
    "df[[\"title\", \"description\", \"tags\"]] = df[[\"title\", \"description\", \"tags\"]].fillna(value=\" \"*256)\n",
    "\n",
    "url_pattern = r\"(https?:\\/\\/(?:www\\.|(?!www))[a-zA-Z0-9][a-zA-Z0-9-]+[a-zA-Z0-9]\\.[^\\s]{2,}|www\\.[a-zA-Z0-9][a-zA-Z0-9-]+[a-zA-Z0-9]\\.[^\\s]{2,}|https?:\\/\\/(?:www\\.|(?!www))[a-zA-Z0-9]+\\.[^\\s]{2,}|www\\.[a-zA-Z0-9]+\\.[^\\s]{2,})\"\n",
    "df[\"description\"].replace(url_pattern, '', regex=True, inplace=True)\n",
    "\n",
    "df = df.sort_values(\"category_id\")\n",
    "\n",
    "df.head(10)"
   ],
   "metadata": {
    "collapsed": false,
    "pycharm": {
     "name": "#%%\n"
    }
   }
  },
  {
   "cell_type": "markdown",
   "source": [
    "### Trending | Data Overview"
   ],
   "metadata": {
    "collapsed": false,
    "pycharm": {
     "name": "#%% md\n"
    }
   }
  },
  {
   "cell_type": "code",
   "execution_count": 27,
   "outputs": [
    {
     "name": "stdout",
     "output_type": "stream",
     "text": [
      "<class 'pandas.core.frame.DataFrame'>\n",
      "Int64Index: 25064 entries, 28433 to 21619\n",
      "Data columns (total 5 columns):\n",
      " #   Column       Non-Null Count  Dtype \n",
      "---  ------       --------------  ----- \n",
      " 0   video_id     25064 non-null  object\n",
      " 1   category_id  25064 non-null  int32 \n",
      " 2   title        25064 non-null  object\n",
      " 3   description  25064 non-null  object\n",
      " 4   tags         25064 non-null  object\n",
      "dtypes: int32(1), object(4)\n",
      "memory usage: 1.1+ MB\n",
      "<class 'pandas.core.frame.DataFrame'>\n",
      "Int64Index: 25064 entries, 28433 to 21619\n",
      "Data columns (total 5 columns):\n",
      " #   Column       Non-Null Count  Dtype \n",
      "---  ------       --------------  ----- \n",
      " 0   video_id     25064 non-null  object\n",
      " 1   category_id  25064 non-null  int32 \n",
      " 2   title        25064 non-null  object\n",
      " 3   description  25064 non-null  object\n",
      " 4   tags         25064 non-null  object\n",
      "dtypes: int32(1), object(4)\n",
      "memory usage: 1.1+ MB\n"
     ]
    }
   ],
   "source": [
    "df.info()"
   ],
   "metadata": {
    "collapsed": false,
    "pycharm": {
     "name": "#%%\n"
    }
   }
  },
  {
   "cell_type": "markdown",
   "source": [
    "### Trending | Save Output"
   ],
   "metadata": {
    "collapsed": false,
    "pycharm": {
     "name": "#%% md\n"
    }
   }
  },
  {
   "cell_type": "code",
   "execution_count": 28,
   "outputs": [],
   "source": [
    "df.to_pickle(trending[\"main\"][\"clean\"])"
   ],
   "metadata": {
    "collapsed": false,
    "pycharm": {
     "name": "#%%\n"
    }
   }
  }
 ],
 "metadata": {
  "kernelspec": {
   "display_name": "Python 3",
   "language": "python",
   "name": "python3"
  },
  "language_info": {
   "codemirror_mode": {
    "name": "ipython",
    "version": 2
   },
   "file_extension": ".py",
   "mimetype": "text/x-python",
   "name": "python",
   "nbconvert_exporter": "python",
   "pygments_lexer": "ipython2",
   "version": "2.7.6"
  }
 },
 "nbformat": 4,
 "nbformat_minor": 0
}