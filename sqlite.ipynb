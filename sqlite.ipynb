{
 "cells": [
  {
   "cell_type": "code",
   "execution_count": 154,
   "outputs": [],
   "source": [
    "import pandas as pd\n",
    "from pathlib import Path\n",
    "import sqlite3\n",
    "import time\n",
    "cursor = None"
   ],
   "metadata": {
    "collapsed": false,
    "pycharm": {
     "name": "#%%\n"
    }
   }
  },
  {
   "cell_type": "markdown",
   "source": [
    "Establish connection"
   ],
   "metadata": {
    "collapsed": false,
    "pycharm": {
     "name": "#%% md\n"
    }
   }
  },
  {
   "cell_type": "code",
   "execution_count": 155,
   "outputs": [
    {
     "name": "stdout",
     "output_type": "stream",
     "text": [
      "SQLite Version is [('3.36.0',)]\n"
     ]
    }
   ],
   "source": [
    "try:\n",
    "    path_db = Path.cwd() / \"db\" / \"mydb.db\"\n",
    "    sqliteConnection = sqlite3.connect(path_db)\n",
    "    cursor = sqliteConnection.cursor()\n",
    "    query = \"select sqlite_version();\"\n",
    "    cursor.execute(query)\n",
    "    print(f\"SQLite Version is {cursor.fetchall()}\")\n",
    "# Handle errors\n",
    "except sqlite3.Error as error:\n",
    "    print('Error occured - ', error)"
   ],
   "metadata": {
    "collapsed": false,
    "pycharm": {
     "name": "#%%\n"
    }
   }
  },
  {
   "cell_type": "markdown",
   "source": [
    "Read datasets"
   ],
   "metadata": {
    "collapsed": false,
    "pycharm": {
     "name": "#%% md\n"
    }
   }
  },
  {
   "cell_type": "code",
   "execution_count": 156,
   "outputs": [
    {
     "data": {
      "text/plain": "   category_id  category_id_lvl_0  category_id_lvl_1  category_id_lvl_2  \\\n0          101                100              101.0                NaN   \n1          102                100              102.0                NaN   \n2          201                200              201.0                NaN   \n3          202                200              202.0                NaN   \n\n    category_title_lvl_0   category_title_lvl_1 category_title_lvl_2  \n0  Politics & Nonprofits  Nonprofits & Activism                  NaN  \n1  Politics & Nonprofits        News & Politics                  NaN  \n2                 Cinema       Film & Animation                  NaN  \n3                 Cinema               Trailers                  NaN  ",
      "text/html": "<div>\n<style scoped>\n    .dataframe tbody tr th:only-of-type {\n        vertical-align: middle;\n    }\n\n    .dataframe tbody tr th {\n        vertical-align: top;\n    }\n\n    .dataframe thead th {\n        text-align: right;\n    }\n</style>\n<table border=\"1\" class=\"dataframe\">\n  <thead>\n    <tr style=\"text-align: right;\">\n      <th></th>\n      <th>category_id</th>\n      <th>category_id_lvl_0</th>\n      <th>category_id_lvl_1</th>\n      <th>category_id_lvl_2</th>\n      <th>category_title_lvl_0</th>\n      <th>category_title_lvl_1</th>\n      <th>category_title_lvl_2</th>\n    </tr>\n  </thead>\n  <tbody>\n    <tr>\n      <th>0</th>\n      <td>101</td>\n      <td>100</td>\n      <td>101.0</td>\n      <td>NaN</td>\n      <td>Politics &amp; Nonprofits</td>\n      <td>Nonprofits &amp; Activism</td>\n      <td>NaN</td>\n    </tr>\n    <tr>\n      <th>1</th>\n      <td>102</td>\n      <td>100</td>\n      <td>102.0</td>\n      <td>NaN</td>\n      <td>Politics &amp; Nonprofits</td>\n      <td>News &amp; Politics</td>\n      <td>NaN</td>\n    </tr>\n    <tr>\n      <th>2</th>\n      <td>201</td>\n      <td>200</td>\n      <td>201.0</td>\n      <td>NaN</td>\n      <td>Cinema</td>\n      <td>Film &amp; Animation</td>\n      <td>NaN</td>\n    </tr>\n    <tr>\n      <th>3</th>\n      <td>202</td>\n      <td>200</td>\n      <td>202.0</td>\n      <td>NaN</td>\n      <td>Cinema</td>\n      <td>Trailers</td>\n      <td>NaN</td>\n    </tr>\n  </tbody>\n</table>\n</div>"
     },
     "execution_count": 156,
     "metadata": {},
     "output_type": "execute_result"
    }
   ],
   "source": [
    "path_categories = Path.cwd() / \"datasets\" / \"raw\" / \"categories.csv\"\n",
    "df = pd.read_csv(path_categories, sep=';', on_bad_lines='skip')\n",
    "df.head(4)"
   ],
   "metadata": {
    "collapsed": false,
    "pycharm": {
     "name": "#%%\n"
    }
   }
  },
  {
   "cell_type": "code",
   "execution_count": 157,
   "outputs": [
    {
     "name": "stdout",
     "output_type": "stream",
     "text": [
      "except\n"
     ]
    }
   ],
   "source": [
    "query = \"CREATE DATABASE SecondTask;\"\n",
    "try:\n",
    "    cursor.execute(query)\n",
    "except:\n",
    "    print(\"except\")\n",
    "    pass"
   ],
   "metadata": {
    "collapsed": false,
    "pycharm": {
     "name": "#%%\n"
    }
   }
  },
  {
   "cell_type": "markdown",
   "source": [
    "Create table \"Categories\""
   ],
   "metadata": {
    "collapsed": false,
    "pycharm": {
     "name": "#%% md\n"
    }
   }
  },
  {
   "cell_type": "code",
   "execution_count": 158,
   "outputs": [
    {
     "name": "stdout",
     "output_type": "stream",
     "text": [
      "except\n"
     ]
    }
   ],
   "source": [
    "query = \"\"\"\n",
    "CREATE TABLE SecondTask.Categories (\n",
    "\tcategory_id INTEGER PRIMARY KEY,\n",
    "   \tcategory_id_lvl_0 INTEGER NOT NULL,\n",
    "\tcategory_id_lvl_1 INTEGER DEFAULT NULL,\n",
    "\tcategory_id_lvl_2 INTEGER DEFAULT NULL,\n",
    "\tcategory_title_lvl_0 TEXT NOT NULL,\n",
    "\tcategory_title_lvl_1 TEXT DEFAULT NULL,\n",
    "\tcategory_title_lvl_2 TEXT  DEFAULT NULL\n",
    ")\"\"\"\n",
    "try:\n",
    "    cursor.execute(query)\n",
    "except:\n",
    "    print(\"except\")\n",
    "    pass"
   ],
   "metadata": {
    "collapsed": false,
    "pycharm": {
     "name": "#%%\n"
    }
   }
  },
  {
   "cell_type": "markdown",
   "source": [
    "Fills the Categories"
   ],
   "metadata": {
    "collapsed": false,
    "pycharm": {
     "name": "#%% md\n"
    }
   }
  },
  {
   "cell_type": "code",
   "execution_count": 159,
   "outputs": [
    {
     "name": "stdout",
     "output_type": "stream",
     "text": [
      "done\n"
     ]
    },
    {
     "ename": "OperationalError",
     "evalue": "database is locked",
     "output_type": "error",
     "traceback": [
      "\u001B[1;31m---------------------------------------------------------------------------\u001B[0m",
      "\u001B[1;31mOperationalError\u001B[0m                          Traceback (most recent call last)",
      "\u001B[1;32mC:\\Users\\Public\\Documents\\Wondershare\\CreatorTemp/ipykernel_14256/1669335710.py\u001B[0m in \u001B[0;36m<module>\u001B[1;34m\u001B[0m\n\u001B[0;32m      6\u001B[0m     data = (row[\"category_id\"], row[\"category_id_lvl_0\"], row[\"category_id_lvl_1\"], row[\"category_id_lvl_2\"],\n\u001B[0;32m      7\u001B[0m             row[\"category_title_lvl_0\"], row[\"category_title_lvl_1\"], row[\"category_title_lvl_2\"])\n\u001B[1;32m----> 8\u001B[1;33m     \u001B[0mcursor\u001B[0m\u001B[1;33m.\u001B[0m\u001B[0mexecute\u001B[0m\u001B[1;33m(\u001B[0m\u001B[0mquery\u001B[0m\u001B[1;33m,\u001B[0m \u001B[0mdata\u001B[0m\u001B[1;33m)\u001B[0m\u001B[1;33m\u001B[0m\u001B[1;33m\u001B[0m\u001B[0m\n\u001B[0m\u001B[0;32m      9\u001B[0m     \u001B[0mtime\u001B[0m\u001B[1;33m.\u001B[0m\u001B[0msleep\u001B[0m\u001B[1;33m(\u001B[0m\u001B[1;36m0.4\u001B[0m\u001B[1;33m)\u001B[0m\u001B[1;33m\u001B[0m\u001B[1;33m\u001B[0m\u001B[0m\n",
      "\u001B[1;31mOperationalError\u001B[0m: database is locked"
     ]
    }
   ],
   "source": [
    "\n",
    "query = \"\"\"\n",
    "INSERT INTO Categories(category_id,category_id_lvl_0,category_id_lvl_1,category_id_lvl_2,category_title_lvl_0,category_title_lvl_1,category_title_lvl_2)\n",
    "VALUES(?,?,?,?,?,?,?)\"\"\"\n",
    "for i, row in df.iterrows():\n",
    "    print(\"done\")\n",
    "    data = (row[\"category_id\"], row[\"category_id_lvl_0\"], row[\"category_id_lvl_1\"], row[\"category_id_lvl_2\"],\n",
    "            row[\"category_title_lvl_0\"], row[\"category_title_lvl_1\"], row[\"category_title_lvl_2\"])\n",
    "    cursor.execute(query, data)\n",
    "    time.sleep(0.4)"
   ],
   "metadata": {
    "collapsed": false,
    "pycharm": {
     "name": "#%%\n"
    }
   }
  },
  {
   "cell_type": "markdown",
   "source": [
    "Number of unique records"
   ],
   "metadata": {
    "collapsed": false,
    "pycharm": {
     "name": "#%% md\n"
    }
   }
  },
  {
   "cell_type": "code",
   "execution_count": 160,
   "outputs": [
    {
     "name": "stdout",
     "output_type": "stream",
     "text": [
      "(0,)\n"
     ]
    }
   ],
   "source": [
    "query = \"SELECT COUNT(*) FROM Categories;\"\n",
    "cursor.execute(query)\n",
    "print(cursor.fetchone())"
   ],
   "metadata": {
    "collapsed": false,
    "pycharm": {
     "name": "#%%\n"
    }
   }
  },
  {
   "cell_type": "markdown",
   "source": [
    "Number of categories with the symbol & in the title;"
   ],
   "metadata": {
    "collapsed": false,
    "pycharm": {
     "name": "#%% md\n"
    }
   }
  },
  {
   "cell_type": "code",
   "execution_count": 161,
   "outputs": [
    {
     "ename": "OperationalError",
     "evalue": "no such function: REGEXP",
     "output_type": "error",
     "traceback": [
      "\u001B[1;31m---------------------------------------------------------------------------\u001B[0m",
      "\u001B[1;31mOperationalError\u001B[0m                          Traceback (most recent call last)",
      "\u001B[1;32mC:\\Users\\Public\\Documents\\Wondershare\\CreatorTemp/ipykernel_14256/2483591260.py\u001B[0m in \u001B[0;36m<module>\u001B[1;34m\u001B[0m\n\u001B[0;32m      1\u001B[0m \u001B[0mquery\u001B[0m \u001B[1;33m=\u001B[0m \u001B[1;34m\"SELECT COUNT(*) FROM Categories WHERE category_title_lvl_2 REGEXP '&';\"\u001B[0m\u001B[1;33m\u001B[0m\u001B[1;33m\u001B[0m\u001B[0m\n\u001B[1;32m----> 2\u001B[1;33m \u001B[0mcursor\u001B[0m\u001B[1;33m.\u001B[0m\u001B[0mexecute\u001B[0m\u001B[1;33m(\u001B[0m\u001B[0mquery\u001B[0m\u001B[1;33m)\u001B[0m\u001B[1;33m\u001B[0m\u001B[1;33m\u001B[0m\u001B[0m\n\u001B[0m\u001B[0;32m      3\u001B[0m \u001B[0mprint\u001B[0m\u001B[1;33m(\u001B[0m\u001B[0mcursor\u001B[0m\u001B[1;33m.\u001B[0m\u001B[0mfetchone\u001B[0m\u001B[1;33m(\u001B[0m\u001B[1;33m)\u001B[0m\u001B[1;33m)\u001B[0m\u001B[1;33m\u001B[0m\u001B[1;33m\u001B[0m\u001B[0m\n",
      "\u001B[1;31mOperationalError\u001B[0m: no such function: REGEXP"
     ]
    }
   ],
   "source": [
    "query = \"SELECT COUNT(*) FROM Categories WHERE category_title_lvl_2 REGEXP '&';\"\n",
    "cursor.execute(query)\n",
    "print(cursor.fetchone())"
   ],
   "metadata": {
    "collapsed": false,
    "pycharm": {
     "name": "#%%\n"
    }
   }
  },
  {
   "cell_type": "markdown",
   "source": [
    "Number or level 1 and level 2 categories are there for each level 0 category."
   ],
   "metadata": {
    "collapsed": false,
    "pycharm": {
     "name": "#%% md\n"
    }
   }
  },
  {
   "cell_type": "markdown",
   "source": [
    "List all categories that have only level 0 category and no subcategories;"
   ],
   "metadata": {
    "collapsed": false,
    "pycharm": {
     "name": "#%% md\n"
    }
   }
  },
  {
   "cell_type": "markdown",
   "source": [
    "Close cursor"
   ],
   "metadata": {
    "collapsed": false,
    "pycharm": {
     "name": "#%% md\n"
    }
   }
  },
  {
   "cell_type": "code",
   "execution_count": 162,
   "outputs": [],
   "source": [
    "cursor.close()"
   ],
   "metadata": {
    "collapsed": false,
    "pycharm": {
     "name": "#%%\n"
    }
   }
  },
  {
   "cell_type": "code",
   "execution_count": null,
   "outputs": [],
   "source": [],
   "metadata": {
    "collapsed": false,
    "pycharm": {
     "name": "#%%\n"
    }
   }
  }
 ],
 "metadata": {
  "kernelspec": {
   "display_name": "Python 3",
   "language": "python",
   "name": "python3"
  },
  "language_info": {
   "codemirror_mode": {
    "name": "ipython",
    "version": 2
   },
   "file_extension": ".py",
   "mimetype": "text/x-python",
   "name": "python",
   "nbconvert_exporter": "python",
   "pygments_lexer": "ipython2",
   "version": "2.7.6"
  }
 },
 "nbformat": 4,
 "nbformat_minor": 0
}