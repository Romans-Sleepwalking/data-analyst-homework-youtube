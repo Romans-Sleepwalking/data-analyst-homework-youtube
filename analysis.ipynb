{
 "cells": [
  {
   "cell_type": "markdown",
   "source": [
    "## Deep Dive into YouTube Trending\n",
    "During the Data Analytics examination, the Data Scientist at the company N asks for an in-depth analysis of YouTube Trending datasets.\n",
    "\n",
    "This notebook will analyze all the data prepared before.\n",
    "&nbsp;\n",
    "### Datasets\n",
    "- _categories_Jun-dd-2022.pkl_ contains YouTube categories\n",
    "- _trending_Jun-dd-2022.pkl_ contains YouTube videos listed in Trending Tab"
   ],
   "metadata": {
    "collapsed": false,
    "pycharm": {
     "name": "#%% md\n"
    }
   }
  },
  {
   "cell_type": "code",
   "execution_count": 1,
   "outputs": [],
   "source": [
    "from pathlib import Path\n",
    "import pandas as pd\n",
    "from collections import Counter\n",
    "import nltk\n",
    "# nltk.download()  # Required once"
   ],
   "metadata": {
    "collapsed": false,
    "pycharm": {
     "name": "#%%\n"
    }
   }
  },
  {
   "cell_type": "markdown",
   "source": [
    "### Define paths"
   ],
   "metadata": {
    "collapsed": false,
    "pycharm": {
     "name": "#%% md\n"
    }
   }
  },
  {
   "cell_type": "code",
   "execution_count": 2,
   "outputs": [],
   "source": [
    "version = \"Jun-16-2022\"\n",
    "path_categories = Path.cwd() / \"datasets\" / \"processed\" / f\"categories_{version}.pkl\"\n",
    "path_trending = Path.cwd() / \"datasets\" / \"processed\" / f\"trending_{version}.pkl\""
   ],
   "metadata": {
    "collapsed": false,
    "pycharm": {
     "name": "#%%\n"
    }
   }
  },
  {
   "cell_type": "markdown",
   "source": [
    "### Pathfinding | Technology Categories"
   ],
   "metadata": {
    "collapsed": false,
    "pycharm": {
     "name": "#%% md\n"
    }
   }
  },
  {
   "cell_type": "code",
   "execution_count": 3,
   "outputs": [
    {
     "data": {
      "text/plain": "     category_id  parent_id  root_id              category  \\\n167          300        300      300   Education & Science   \n6            301        301      300  Science & Technology   \n7            302        302      300             Education   \n\n                   parent                 root  \n167   Education & Science  Education & Science  \n6    Science & Technology  Education & Science  \n7               Education  Education & Science  ",
      "text/html": "<div>\n<style scoped>\n    .dataframe tbody tr th:only-of-type {\n        vertical-align: middle;\n    }\n\n    .dataframe tbody tr th {\n        vertical-align: top;\n    }\n\n    .dataframe thead th {\n        text-align: right;\n    }\n</style>\n<table border=\"1\" class=\"dataframe\">\n  <thead>\n    <tr style=\"text-align: right;\">\n      <th></th>\n      <th>category_id</th>\n      <th>parent_id</th>\n      <th>root_id</th>\n      <th>category</th>\n      <th>parent</th>\n      <th>root</th>\n    </tr>\n  </thead>\n  <tbody>\n    <tr>\n      <th>167</th>\n      <td>300</td>\n      <td>300</td>\n      <td>300</td>\n      <td>Education &amp; Science</td>\n      <td>Education &amp; Science</td>\n      <td>Education &amp; Science</td>\n    </tr>\n    <tr>\n      <th>6</th>\n      <td>301</td>\n      <td>301</td>\n      <td>300</td>\n      <td>Science &amp; Technology</td>\n      <td>Science &amp; Technology</td>\n      <td>Education &amp; Science</td>\n    </tr>\n    <tr>\n      <th>7</th>\n      <td>302</td>\n      <td>302</td>\n      <td>300</td>\n      <td>Education</td>\n      <td>Education</td>\n      <td>Education &amp; Science</td>\n    </tr>\n  </tbody>\n</table>\n</div>"
     },
     "execution_count": 3,
     "metadata": {},
     "output_type": "execute_result"
    }
   ],
   "source": [
    "df = pd.read_pickle(path_categories)\n",
    "df_tech = df[df[\"root\"] == \"Education & Science\"]\n",
    "df_tech.head(10)"
   ],
   "metadata": {
    "collapsed": false,
    "pycharm": {
     "name": "#%%\n"
    }
   }
  },
  {
   "cell_type": "code",
   "execution_count": 4,
   "outputs": [
    {
     "name": "stdout",
     "output_type": "stream",
     "text": [
      "[300, 301, 302]\n"
     ]
    }
   ],
   "source": [
    "tech_categories = df_tech[\"category_id\"].tolist()\n",
    "print(tech_categories)"
   ],
   "metadata": {
    "collapsed": false,
    "pycharm": {
     "name": "#%%\n"
    }
   }
  },
  {
   "cell_type": "markdown",
   "source": [
    "### Analysis | Read Dataset"
   ],
   "metadata": {
    "collapsed": false,
    "pycharm": {
     "name": "#%% md\n"
    }
   }
  },
  {
   "cell_type": "code",
   "execution_count": 5,
   "outputs": [],
   "source": [
    "df = pd.read_pickle(path_trending)"
   ],
   "metadata": {
    "collapsed": false,
    "pycharm": {
     "name": "#%%\n"
    }
   }
  },
  {
   "cell_type": "markdown",
   "source": [
    "### Analysis | Popular Words"
   ],
   "metadata": {
    "collapsed": false,
    "pycharm": {
     "name": "#%% md\n"
    }
   }
  },
  {
   "cell_type": "code",
   "execution_count": 6,
   "outputs": [
    {
     "name": "stdout",
     "output_type": "stream",
     "text": [
      "[('n', 93972), ('video', 16556), ('the', 15689), ('i', 11141), ('us', 10598), ('new', 10064), ('subscrib', 9240), ('channel', 8166), ('de', 8007), ('show', 7551), ('twitter', 7318), ('facebook', 7085), ('music', 7047), ('episod', 6709), ('use', 6418), ('get', 6160), ('watch', 6092), ('youtub', 5902), ('instagram', 5274), ('to', 5131), ('like', 5073), ('product', 4710), ('2018', 4347), ('link', 4344), ('make', 4285), ('live', 4168), ('full', 4155), ('com', 4085), ('one', 4055), ('a', 3971), ('2', 3823), ('_', 3717), ('game', 3699), ('thi', 3654), ('nsubscrib', 3651), ('follow', 3611), ('you', 3575), ('time', 3572), ('la', 3537), ('offici', 3509), ('day', 3399), ('song', 3376), ('love', 3357), ('here', 3269), ('on', 3173), ('tv', 3145), ('1', 3100), ('le', 3069), ('latest', 3016), ('best', 2931)]\n"
     ]
    }
   ],
   "source": [
    "word_counter = Counter()\n",
    "word_tokenizer = nltk.RegexpTokenizer(r\"\\w+\")\n",
    "word_stemmer = nltk.stem.PorterStemmer()\n",
    "word_stoplist = set(nltk.corpus.stopwords.words(\"english\"))\n",
    "\n",
    "for i, row in df.iterrows():\n",
    "    tokens = [token for token in word_tokenizer.tokenize(row[\"description\"]) if token not in word_stoplist]\n",
    "    word_counter.update([word_stemmer.stem(word) for word in tokens])\n",
    "\n",
    "print(word_counter.most_common(50))"
   ],
   "metadata": {
    "collapsed": false,
    "pycharm": {
     "name": "#%%\n"
    }
   }
  },
  {
   "cell_type": "markdown",
   "source": [
    "### Analysis | Popular Words in Tech"
   ],
   "metadata": {
    "collapsed": false,
    "pycharm": {
     "name": "#%% md\n"
    }
   }
  },
  {
   "cell_type": "code",
   "execution_count": 7,
   "outputs": [
    {
     "name": "stdout",
     "output_type": "stream",
     "text": [
      "[('n', 7125), ('video', 1270), ('the', 1071), ('i', 779), ('link', 628), ('de', 613), ('you', 565), ('get', 508), ('use', 498), ('music', 494), ('us', 488), ('thi', 436), ('iphon', 416), ('a', 406), ('credit', 396), ('new', 391), ('smartphon', 389), ('x', 361), ('support', 351), ('le', 349), ('one', 345), ('patreon', 343), ('in', 338), ('like', 336), ('click', 332), ('amazon', 325), ('to', 320), ('kevin', 314), ('for', 305), ('com', 300), ('product', 295), ('is', 293), ('thank', 293), ('channel', 291), ('screen', 281), ('à', 273), ('what', 259), ('make', 256), ('phone', 255), ('life', 254), ('never', 252), ('world', 251), ('tech', 236), ('pleas', 234), ('it', 230), ('buy', 228), ('your', 228), ('la', 227), ('gmail', 222), ('10', 220)]\n"
     ]
    }
   ],
   "source": [
    "word_counter = Counter()\n",
    "for i, row in df.iterrows():\n",
    "    if row[\"category_id\"] in tech_categories:\n",
    "        tokens = [token for token in word_tokenizer.tokenize(row[\"description\"]) if token not in word_stoplist]\n",
    "        word_counter.update([word_stemmer.stem(word) for word in tokens])\n",
    "\n",
    "print(word_counter.most_common(50))"
   ],
   "metadata": {
    "collapsed": false,
    "pycharm": {
     "name": "#%%\n"
    }
   }
  }
 ],
 "metadata": {
  "kernelspec": {
   "display_name": "Python 3",
   "language": "python",
   "name": "python3"
  },
  "language_info": {
   "codemirror_mode": {
    "name": "ipython",
    "version": 2
   },
   "file_extension": ".py",
   "mimetype": "text/x-python",
   "name": "python",
   "nbconvert_exporter": "python",
   "pygments_lexer": "ipython2",
   "version": "2.7.6"
  }
 },
 "nbformat": 4,
 "nbformat_minor": 0
}